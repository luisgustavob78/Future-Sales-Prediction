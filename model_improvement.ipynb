{
 "cells": [
  {
   "cell_type": "code",
   "execution_count": 0,
   "metadata": {
    "colab": {},
    "colab_type": "code",
    "id": "OmB_hWT1-Tpe"
   },
   "outputs": [],
   "source": [
    "import pandas as pd"
   ]
  },
  {
   "cell_type": "code",
   "execution_count": 2,
   "metadata": {
    "colab": {
     "base_uri": "https://localhost:8080/",
     "height": 195
    },
    "colab_type": "code",
    "id": "B8vz-CKe-Tp0",
    "outputId": "4339505a-6485-4605-b75e-6cc9740c701e"
   },
   "outputs": [
    {
     "data": {
      "text/html": [
       "<div>\n",
       "<style scoped>\n",
       "    .dataframe tbody tr th:only-of-type {\n",
       "        vertical-align: middle;\n",
       "    }\n",
       "\n",
       "    .dataframe tbody tr th {\n",
       "        vertical-align: top;\n",
       "    }\n",
       "\n",
       "    .dataframe thead th {\n",
       "        text-align: right;\n",
       "    }\n",
       "</style>\n",
       "<table border=\"1\" class=\"dataframe\">\n",
       "  <thead>\n",
       "    <tr style=\"text-align: right;\">\n",
       "      <th></th>\n",
       "      <th>date</th>\n",
       "      <th>date_block_num</th>\n",
       "      <th>shop_id</th>\n",
       "      <th>item_id</th>\n",
       "      <th>item_price</th>\n",
       "      <th>item_cnt_day</th>\n",
       "    </tr>\n",
       "  </thead>\n",
       "  <tbody>\n",
       "    <tr>\n",
       "      <th>0</th>\n",
       "      <td>02.01.2013</td>\n",
       "      <td>0</td>\n",
       "      <td>59</td>\n",
       "      <td>22154</td>\n",
       "      <td>999.00</td>\n",
       "      <td>1.0</td>\n",
       "    </tr>\n",
       "    <tr>\n",
       "      <th>1</th>\n",
       "      <td>03.01.2013</td>\n",
       "      <td>0</td>\n",
       "      <td>25</td>\n",
       "      <td>2552</td>\n",
       "      <td>899.00</td>\n",
       "      <td>1.0</td>\n",
       "    </tr>\n",
       "    <tr>\n",
       "      <th>2</th>\n",
       "      <td>05.01.2013</td>\n",
       "      <td>0</td>\n",
       "      <td>25</td>\n",
       "      <td>2552</td>\n",
       "      <td>899.00</td>\n",
       "      <td>-1.0</td>\n",
       "    </tr>\n",
       "    <tr>\n",
       "      <th>3</th>\n",
       "      <td>06.01.2013</td>\n",
       "      <td>0</td>\n",
       "      <td>25</td>\n",
       "      <td>2554</td>\n",
       "      <td>1709.05</td>\n",
       "      <td>1.0</td>\n",
       "    </tr>\n",
       "    <tr>\n",
       "      <th>4</th>\n",
       "      <td>15.01.2013</td>\n",
       "      <td>0</td>\n",
       "      <td>25</td>\n",
       "      <td>2555</td>\n",
       "      <td>1099.00</td>\n",
       "      <td>1.0</td>\n",
       "    </tr>\n",
       "  </tbody>\n",
       "</table>\n",
       "</div>"
      ],
      "text/plain": [
       "         date  date_block_num  shop_id  item_id  item_price  item_cnt_day\n",
       "0  02.01.2013               0       59    22154      999.00           1.0\n",
       "1  03.01.2013               0       25     2552      899.00           1.0\n",
       "2  05.01.2013               0       25     2552      899.00          -1.0\n",
       "3  06.01.2013               0       25     2554     1709.05           1.0\n",
       "4  15.01.2013               0       25     2555     1099.00           1.0"
      ]
     },
     "execution_count": 2,
     "metadata": {
      "tags": []
     },
     "output_type": "execute_result"
    }
   ],
   "source": [
    "df_train = pd.read_csv('sales_train.csv', sep=',')\n",
    "df_train.head()"
   ]
  },
  {
   "cell_type": "code",
   "execution_count": 0,
   "metadata": {
    "colab": {
     "base_uri": "https://localhost:8080/",
     "height": 34
    },
    "colab_type": "code",
    "id": "MoigOZgwnt-M",
    "outputId": "1635a1aa-4f9b-4e39-e08a-90668b97509f"
   },
   "outputs": [
    {
     "data": {
      "text/plain": [
       "(2935849, 6)"
      ]
     },
     "execution_count": 96,
     "metadata": {
      "tags": []
     },
     "output_type": "execute_result"
    }
   ],
   "source": [
    "df_train.shape"
   ]
  },
  {
   "cell_type": "code",
   "execution_count": 0,
   "metadata": {
    "colab": {
     "base_uri": "https://localhost:8080/",
     "height": 34
    },
    "colab_type": "code",
    "id": "FpiUSahUi0Bd",
    "outputId": "c9c10279-1014-409a-bdc5-544a938ee19a"
   },
   "outputs": [
    {
     "data": {
      "text/plain": [
       "21807"
      ]
     },
     "execution_count": 86,
     "metadata": {
      "tags": []
     },
     "output_type": "execute_result"
    }
   ],
   "source": [
    "p = df_train['item_id'].unique()\n",
    "len(p)"
   ]
  },
  {
   "cell_type": "code",
   "execution_count": 0,
   "metadata": {
    "colab": {},
    "colab_type": "code",
    "id": "EKYP_ukUpSGu"
   },
   "outputs": [],
   "source": [
    "def intersection(a, b):\n",
    "\n",
    "  lst = [value for value in a if value in b]\n",
    "  return lst"
   ]
  },
  {
   "cell_type": "code",
   "execution_count": 0,
   "metadata": {
    "colab": {
     "base_uri": "https://localhost:8080/",
     "height": 34
    },
    "colab_type": "code",
    "id": "3h82RdiQppfD",
    "outputId": "2c24f043-720c-46a1-fc35-f80376686190"
   },
   "outputs": [
    {
     "data": {
      "text/plain": [
       "4737"
      ]
     },
     "execution_count": 101,
     "metadata": {
      "tags": []
     },
     "output_type": "execute_result"
    }
   ],
   "source": [
    "teste = intersection(p, itens)\n",
    "len(teste)"
   ]
  },
  {
   "cell_type": "code",
   "execution_count": 0,
   "metadata": {
    "colab": {
     "base_uri": "https://localhost:8080/",
     "height": 34
    },
    "colab_type": "code",
    "id": "7aECd-al_USx",
    "outputId": "ca0cbe38-c25d-41b2-b088-fb955bdd6736"
   },
   "outputs": [
    {
     "data": {
      "text/plain": [
       "(2935849, 6)"
      ]
     },
     "execution_count": 6,
     "metadata": {
      "tags": []
     },
     "output_type": "execute_result"
    }
   ],
   "source": [
    "df_train.shape"
   ]
  },
  {
   "cell_type": "code",
   "execution_count": 3,
   "metadata": {
    "colab": {
     "base_uri": "https://localhost:8080/",
     "height": 195
    },
    "colab_type": "code",
    "id": "hXMGrueu-TqD",
    "outputId": "ca76adbf-35df-4c87-b576-cbb601fb49c5"
   },
   "outputs": [
    {
     "data": {
      "text/html": [
       "<div>\n",
       "<style scoped>\n",
       "    .dataframe tbody tr th:only-of-type {\n",
       "        vertical-align: middle;\n",
       "    }\n",
       "\n",
       "    .dataframe tbody tr th {\n",
       "        vertical-align: top;\n",
       "    }\n",
       "\n",
       "    .dataframe thead th {\n",
       "        text-align: right;\n",
       "    }\n",
       "</style>\n",
       "<table border=\"1\" class=\"dataframe\">\n",
       "  <thead>\n",
       "    <tr style=\"text-align: right;\">\n",
       "      <th></th>\n",
       "      <th>date</th>\n",
       "      <th>date_block_num</th>\n",
       "      <th>shop_id</th>\n",
       "      <th>item_id</th>\n",
       "      <th>item_price</th>\n",
       "      <th>item_cnt_day</th>\n",
       "    </tr>\n",
       "  </thead>\n",
       "  <tbody>\n",
       "    <tr>\n",
       "      <th>0</th>\n",
       "      <td>02.01.2013</td>\n",
       "      <td>0</td>\n",
       "      <td>59</td>\n",
       "      <td>22154</td>\n",
       "      <td>999.00</td>\n",
       "      <td>1.0</td>\n",
       "    </tr>\n",
       "    <tr>\n",
       "      <th>1</th>\n",
       "      <td>03.01.2013</td>\n",
       "      <td>0</td>\n",
       "      <td>25</td>\n",
       "      <td>2552</td>\n",
       "      <td>899.00</td>\n",
       "      <td>1.0</td>\n",
       "    </tr>\n",
       "    <tr>\n",
       "      <th>2</th>\n",
       "      <td>05.01.2013</td>\n",
       "      <td>0</td>\n",
       "      <td>25</td>\n",
       "      <td>2552</td>\n",
       "      <td>899.00</td>\n",
       "      <td>1.0</td>\n",
       "    </tr>\n",
       "    <tr>\n",
       "      <th>3</th>\n",
       "      <td>06.01.2013</td>\n",
       "      <td>0</td>\n",
       "      <td>25</td>\n",
       "      <td>2554</td>\n",
       "      <td>1709.05</td>\n",
       "      <td>1.0</td>\n",
       "    </tr>\n",
       "    <tr>\n",
       "      <th>4</th>\n",
       "      <td>15.01.2013</td>\n",
       "      <td>0</td>\n",
       "      <td>25</td>\n",
       "      <td>2555</td>\n",
       "      <td>1099.00</td>\n",
       "      <td>1.0</td>\n",
       "    </tr>\n",
       "  </tbody>\n",
       "</table>\n",
       "</div>"
      ],
      "text/plain": [
       "         date  date_block_num  shop_id  item_id  item_price  item_cnt_day\n",
       "0  02.01.2013               0       59    22154      999.00           1.0\n",
       "1  03.01.2013               0       25     2552      899.00           1.0\n",
       "2  05.01.2013               0       25     2552      899.00           1.0\n",
       "3  06.01.2013               0       25     2554     1709.05           1.0\n",
       "4  15.01.2013               0       25     2555     1099.00           1.0"
      ]
     },
     "execution_count": 3,
     "metadata": {
      "tags": []
     },
     "output_type": "execute_result"
    }
   ],
   "source": [
    "# a coluna item_cnt_day não pode conter valores negativos pois representa a quantidade de produtos vendidos. Deve haver erros nessa coluna, então isso deve ser consertado.\n",
    "\n",
    "# função para transformar um numero negativo em positivo\n",
    "\n",
    "def positive (num):\n",
    "    \n",
    "    if num < 0:\n",
    "        num = num*(-1)\n",
    "        \n",
    "    return num\n",
    "\n",
    "# aplicando a função na coluna\n",
    "\n",
    "df_train['item_cnt_day'] = df_train['item_cnt_day'].apply(positive)\n",
    "df_train.head()"
   ]
  },
  {
   "cell_type": "code",
   "execution_count": 4,
   "metadata": {
    "colab": {
     "base_uri": "https://localhost:8080/",
     "height": 195
    },
    "colab_type": "code",
    "id": "TLRWLT1y-TqQ",
    "outputId": "a3e5d84d-4d8c-4215-bee9-5fc7e85f0489"
   },
   "outputs": [
    {
     "data": {
      "text/html": [
       "<div>\n",
       "<style scoped>\n",
       "    .dataframe tbody tr th:only-of-type {\n",
       "        vertical-align: middle;\n",
       "    }\n",
       "\n",
       "    .dataframe tbody tr th {\n",
       "        vertical-align: top;\n",
       "    }\n",
       "\n",
       "    .dataframe thead th {\n",
       "        text-align: right;\n",
       "    }\n",
       "</style>\n",
       "<table border=\"1\" class=\"dataframe\">\n",
       "  <thead>\n",
       "    <tr style=\"text-align: right;\">\n",
       "      <th></th>\n",
       "      <th>item_name</th>\n",
       "      <th>item_id</th>\n",
       "      <th>item_category_id</th>\n",
       "    </tr>\n",
       "  </thead>\n",
       "  <tbody>\n",
       "    <tr>\n",
       "      <th>0</th>\n",
       "      <td>! ВО ВЛАСТИ НАВАЖДЕНИЯ (ПЛАСТ.)         D</td>\n",
       "      <td>0</td>\n",
       "      <td>40</td>\n",
       "    </tr>\n",
       "    <tr>\n",
       "      <th>1</th>\n",
       "      <td>!ABBYY FineReader 12 Professional Edition Full...</td>\n",
       "      <td>1</td>\n",
       "      <td>76</td>\n",
       "    </tr>\n",
       "    <tr>\n",
       "      <th>2</th>\n",
       "      <td>***В ЛУЧАХ СЛАВЫ   (UNV)                    D</td>\n",
       "      <td>2</td>\n",
       "      <td>40</td>\n",
       "    </tr>\n",
       "    <tr>\n",
       "      <th>3</th>\n",
       "      <td>***ГОЛУБАЯ ВОЛНА  (Univ)                      D</td>\n",
       "      <td>3</td>\n",
       "      <td>40</td>\n",
       "    </tr>\n",
       "    <tr>\n",
       "      <th>4</th>\n",
       "      <td>***КОРОБКА (СТЕКЛО)                       D</td>\n",
       "      <td>4</td>\n",
       "      <td>40</td>\n",
       "    </tr>\n",
       "  </tbody>\n",
       "</table>\n",
       "</div>"
      ],
      "text/plain": [
       "                                           item_name  item_id  item_category_id\n",
       "0          ! ВО ВЛАСТИ НАВАЖДЕНИЯ (ПЛАСТ.)         D        0                40\n",
       "1  !ABBYY FineReader 12 Professional Edition Full...        1                76\n",
       "2      ***В ЛУЧАХ СЛАВЫ   (UNV)                    D        2                40\n",
       "3    ***ГОЛУБАЯ ВОЛНА  (Univ)                      D        3                40\n",
       "4        ***КОРОБКА (СТЕКЛО)                       D        4                40"
      ]
     },
     "execution_count": 4,
     "metadata": {
      "tags": []
     },
     "output_type": "execute_result"
    }
   ],
   "source": [
    "df_items = pd.read_csv('items.csv', sep=',')\n",
    "df_items.head()"
   ]
  },
  {
   "cell_type": "code",
   "execution_count": 5,
   "metadata": {
    "colab": {
     "base_uri": "https://localhost:8080/",
     "height": 195
    },
    "colab_type": "code",
    "id": "bfpen43v-Tqg",
    "outputId": "a5149a88-830f-481c-dcb2-2a29e89837ed"
   },
   "outputs": [
    {
     "data": {
      "text/html": [
       "<div>\n",
       "<style scoped>\n",
       "    .dataframe tbody tr th:only-of-type {\n",
       "        vertical-align: middle;\n",
       "    }\n",
       "\n",
       "    .dataframe tbody tr th {\n",
       "        vertical-align: top;\n",
       "    }\n",
       "\n",
       "    .dataframe thead th {\n",
       "        text-align: right;\n",
       "    }\n",
       "</style>\n",
       "<table border=\"1\" class=\"dataframe\">\n",
       "  <thead>\n",
       "    <tr style=\"text-align: right;\">\n",
       "      <th></th>\n",
       "      <th>shop_name</th>\n",
       "      <th>shop_id</th>\n",
       "    </tr>\n",
       "  </thead>\n",
       "  <tbody>\n",
       "    <tr>\n",
       "      <th>0</th>\n",
       "      <td>!Якутск Орджоникидзе, 56 фран</td>\n",
       "      <td>0</td>\n",
       "    </tr>\n",
       "    <tr>\n",
       "      <th>1</th>\n",
       "      <td>!Якутск ТЦ \"Центральный\" фран</td>\n",
       "      <td>1</td>\n",
       "    </tr>\n",
       "    <tr>\n",
       "      <th>2</th>\n",
       "      <td>Адыгея ТЦ \"Мега\"</td>\n",
       "      <td>2</td>\n",
       "    </tr>\n",
       "    <tr>\n",
       "      <th>3</th>\n",
       "      <td>Балашиха ТРК \"Октябрь-Киномир\"</td>\n",
       "      <td>3</td>\n",
       "    </tr>\n",
       "    <tr>\n",
       "      <th>4</th>\n",
       "      <td>Волжский ТЦ \"Волга Молл\"</td>\n",
       "      <td>4</td>\n",
       "    </tr>\n",
       "  </tbody>\n",
       "</table>\n",
       "</div>"
      ],
      "text/plain": [
       "                        shop_name  shop_id\n",
       "0   !Якутск Орджоникидзе, 56 фран        0\n",
       "1   !Якутск ТЦ \"Центральный\" фран        1\n",
       "2                Адыгея ТЦ \"Мега\"        2\n",
       "3  Балашиха ТРК \"Октябрь-Киномир\"        3\n",
       "4        Волжский ТЦ \"Волга Молл\"        4"
      ]
     },
     "execution_count": 5,
     "metadata": {
      "tags": []
     },
     "output_type": "execute_result"
    }
   ],
   "source": [
    "df_shops = pd.read_csv('shops.csv', sep=',')\n",
    "df_shops.head()"
   ]
  },
  {
   "cell_type": "code",
   "execution_count": 6,
   "metadata": {
    "colab": {
     "base_uri": "https://localhost:8080/",
     "height": 225
    },
    "colab_type": "code",
    "id": "UtmrXG3k-Tqs",
    "outputId": "9b366553-a2a8-4140-ee92-786c34a45207"
   },
   "outputs": [
    {
     "data": {
      "text/html": [
       "<div>\n",
       "<style scoped>\n",
       "    .dataframe tbody tr th:only-of-type {\n",
       "        vertical-align: middle;\n",
       "    }\n",
       "\n",
       "    .dataframe tbody tr th {\n",
       "        vertical-align: top;\n",
       "    }\n",
       "\n",
       "    .dataframe thead th {\n",
       "        text-align: right;\n",
       "    }\n",
       "</style>\n",
       "<table border=\"1\" class=\"dataframe\">\n",
       "  <thead>\n",
       "    <tr style=\"text-align: right;\">\n",
       "      <th></th>\n",
       "      <th></th>\n",
       "      <th>monthly_label</th>\n",
       "    </tr>\n",
       "    <tr>\n",
       "      <th>item_id</th>\n",
       "      <th>date_block_num</th>\n",
       "      <th></th>\n",
       "    </tr>\n",
       "  </thead>\n",
       "  <tbody>\n",
       "    <tr>\n",
       "      <th>0</th>\n",
       "      <th>20</th>\n",
       "      <td>1.0</td>\n",
       "    </tr>\n",
       "    <tr>\n",
       "      <th rowspan=\"4\" valign=\"top\">1</th>\n",
       "      <th>15</th>\n",
       "      <td>2.0</td>\n",
       "    </tr>\n",
       "    <tr>\n",
       "      <th>18</th>\n",
       "      <td>1.0</td>\n",
       "    </tr>\n",
       "    <tr>\n",
       "      <th>19</th>\n",
       "      <td>1.0</td>\n",
       "    </tr>\n",
       "    <tr>\n",
       "      <th>20</th>\n",
       "      <td>1.0</td>\n",
       "    </tr>\n",
       "  </tbody>\n",
       "</table>\n",
       "</div>"
      ],
      "text/plain": [
       "                        monthly_label\n",
       "item_id date_block_num               \n",
       "0       20                        1.0\n",
       "1       15                        2.0\n",
       "        18                        1.0\n",
       "        19                        1.0\n",
       "        20                        1.0"
      ]
     },
     "execution_count": 6,
     "metadata": {
      "tags": []
     },
     "output_type": "execute_result"
    }
   ],
   "source": [
    "group = pd.DataFrame(df_train.groupby(['item_id', 'date_block_num'])['item_cnt_day'].sum().rename('monthly_label'))\n",
    "group.head()"
   ]
  },
  {
   "cell_type": "code",
   "execution_count": 0,
   "metadata": {
    "colab": {
     "base_uri": "https://localhost:8080/",
     "height": 34
    },
    "colab_type": "code",
    "id": "PyKXSSzg_j9a",
    "outputId": "76c4d933-b6e3-48cc-9c6f-a7b99d7918d3"
   },
   "outputs": [
    {
     "data": {
      "text/plain": [
       "(233912, 1)"
      ]
     },
     "execution_count": 11,
     "metadata": {
      "tags": []
     },
     "output_type": "execute_result"
    }
   ],
   "source": [
    "group.shape"
   ]
  },
  {
   "cell_type": "code",
   "execution_count": 0,
   "metadata": {
    "colab": {},
    "colab_type": "code",
    "id": "JeEJwOe3-Tq2",
    "outputId": "23b8e1ad-3dce-4461-ab49-866fb1012fcb"
   },
   "outputs": [
    {
     "data": {
      "text/plain": [
       "count    233912.000000\n",
       "mean         15.660967\n",
       "std          96.194809\n",
       "min           1.000000\n",
       "25%           2.000000\n",
       "50%           4.000000\n",
       "75%          11.000000\n",
       "max       12557.000000\n",
       "Name: monthly_label, dtype: float64"
      ]
     },
     "execution_count": 7,
     "metadata": {
      "tags": []
     },
     "output_type": "execute_result"
    }
   ],
   "source": [
    "group['monthly_label'].describe()"
   ]
  },
  {
   "cell_type": "code",
   "execution_count": 7,
   "metadata": {
    "colab": {
     "base_uri": "https://localhost:8080/",
     "height": 195
    },
    "colab_type": "code",
    "id": "t__7b0zn-Tq_",
    "outputId": "7c0c5c9c-c68d-4db9-c084-bcaa520b62c5"
   },
   "outputs": [
    {
     "data": {
      "text/html": [
       "<div>\n",
       "<style scoped>\n",
       "    .dataframe tbody tr th:only-of-type {\n",
       "        vertical-align: middle;\n",
       "    }\n",
       "\n",
       "    .dataframe tbody tr th {\n",
       "        vertical-align: top;\n",
       "    }\n",
       "\n",
       "    .dataframe thead th {\n",
       "        text-align: right;\n",
       "    }\n",
       "</style>\n",
       "<table border=\"1\" class=\"dataframe\">\n",
       "  <thead>\n",
       "    <tr style=\"text-align: right;\">\n",
       "      <th></th>\n",
       "      <th>item_id</th>\n",
       "      <th>date_block_num</th>\n",
       "      <th>item_price</th>\n",
       "    </tr>\n",
       "  </thead>\n",
       "  <tbody>\n",
       "    <tr>\n",
       "      <th>0</th>\n",
       "      <td>22154</td>\n",
       "      <td>0</td>\n",
       "      <td>999.00</td>\n",
       "    </tr>\n",
       "    <tr>\n",
       "      <th>1</th>\n",
       "      <td>2552</td>\n",
       "      <td>0</td>\n",
       "      <td>899.00</td>\n",
       "    </tr>\n",
       "    <tr>\n",
       "      <th>2</th>\n",
       "      <td>2552</td>\n",
       "      <td>0</td>\n",
       "      <td>899.00</td>\n",
       "    </tr>\n",
       "    <tr>\n",
       "      <th>3</th>\n",
       "      <td>2554</td>\n",
       "      <td>0</td>\n",
       "      <td>1709.05</td>\n",
       "    </tr>\n",
       "    <tr>\n",
       "      <th>4</th>\n",
       "      <td>2555</td>\n",
       "      <td>0</td>\n",
       "      <td>1099.00</td>\n",
       "    </tr>\n",
       "  </tbody>\n",
       "</table>\n",
       "</div>"
      ],
      "text/plain": [
       "   item_id  date_block_num  item_price\n",
       "0    22154               0      999.00\n",
       "1     2552               0      899.00\n",
       "2     2552               0      899.00\n",
       "3     2554               0     1709.05\n",
       "4     2555               0     1099.00"
      ]
     },
     "execution_count": 7,
     "metadata": {
      "tags": []
     },
     "output_type": "execute_result"
    }
   ],
   "source": [
    "df_prices = df_train[['item_id', 'date_block_num', 'item_price']]\n",
    "df_prices.head()"
   ]
  },
  {
   "cell_type": "code",
   "execution_count": 8,
   "metadata": {
    "colab": {
     "base_uri": "https://localhost:8080/",
     "height": 195
    },
    "colab_type": "code",
    "id": "B5yz25X9-TrI",
    "outputId": "93da7827-b079-46ea-ec14-f7a43e2c971b"
   },
   "outputs": [
    {
     "data": {
      "text/html": [
       "<div>\n",
       "<style scoped>\n",
       "    .dataframe tbody tr th:only-of-type {\n",
       "        vertical-align: middle;\n",
       "    }\n",
       "\n",
       "    .dataframe tbody tr th {\n",
       "        vertical-align: top;\n",
       "    }\n",
       "\n",
       "    .dataframe thead th {\n",
       "        text-align: right;\n",
       "    }\n",
       "</style>\n",
       "<table border=\"1\" class=\"dataframe\">\n",
       "  <thead>\n",
       "    <tr style=\"text-align: right;\">\n",
       "      <th></th>\n",
       "      <th>item_id</th>\n",
       "      <th>date_block_num</th>\n",
       "      <th>monthly_label</th>\n",
       "      <th>item_price</th>\n",
       "    </tr>\n",
       "  </thead>\n",
       "  <tbody>\n",
       "    <tr>\n",
       "      <th>0</th>\n",
       "      <td>0</td>\n",
       "      <td>20</td>\n",
       "      <td>1.0</td>\n",
       "      <td>58.0</td>\n",
       "    </tr>\n",
       "    <tr>\n",
       "      <th>1</th>\n",
       "      <td>1</td>\n",
       "      <td>15</td>\n",
       "      <td>2.0</td>\n",
       "      <td>4490.0</td>\n",
       "    </tr>\n",
       "    <tr>\n",
       "      <th>2</th>\n",
       "      <td>1</td>\n",
       "      <td>15</td>\n",
       "      <td>2.0</td>\n",
       "      <td>4490.0</td>\n",
       "    </tr>\n",
       "    <tr>\n",
       "      <th>3</th>\n",
       "      <td>1</td>\n",
       "      <td>18</td>\n",
       "      <td>1.0</td>\n",
       "      <td>4490.0</td>\n",
       "    </tr>\n",
       "    <tr>\n",
       "      <th>4</th>\n",
       "      <td>1</td>\n",
       "      <td>19</td>\n",
       "      <td>1.0</td>\n",
       "      <td>4490.0</td>\n",
       "    </tr>\n",
       "  </tbody>\n",
       "</table>\n",
       "</div>"
      ],
      "text/plain": [
       "   item_id  date_block_num  monthly_label  item_price\n",
       "0        0              20            1.0        58.0\n",
       "1        1              15            2.0      4490.0\n",
       "2        1              15            2.0      4490.0\n",
       "3        1              18            1.0      4490.0\n",
       "4        1              19            1.0      4490.0"
      ]
     },
     "execution_count": 8,
     "metadata": {
      "tags": []
     },
     "output_type": "execute_result"
    }
   ],
   "source": [
    "# juntar os dataframes 'group' e 'df_prices' avaliar a correlação entre preço e vendas\n",
    "\n",
    "prices = pd.merge(group, df_prices, on=['item_id', 'date_block_num'])\n",
    "prices.head()"
   ]
  },
  {
   "cell_type": "code",
   "execution_count": 9,
   "metadata": {
    "colab": {
     "base_uri": "https://localhost:8080/",
     "height": 34
    },
    "colab_type": "code",
    "id": "-FEh3g-s-TrP",
    "outputId": "44d1c9b1-976a-450a-f823-a6ab8aeabdb1"
   },
   "outputs": [
    {
     "data": {
      "text/plain": [
       "(233912, 4)"
      ]
     },
     "execution_count": 9,
     "metadata": {
      "tags": []
     },
     "output_type": "execute_result"
    }
   ],
   "source": [
    "# é preciso deletar as informações duplicadas de um mesmo item em um mesmo mês. O que interessa é somente a informação de cada item em cada mês\n",
    "prices = prices.drop_duplicates(subset =['item_id', 'date_block_num'])\n",
    "prices.shape"
   ]
  },
  {
   "cell_type": "code",
   "execution_count": 0,
   "metadata": {
    "colab": {},
    "colab_type": "code",
    "id": "MF7_kuhN-Trd",
    "outputId": "8662c1ed-5eef-4fc8-e64f-93f7137aea92"
   },
   "outputs": [
    {
     "data": {
      "text/plain": [
       "count    233912.000000\n",
       "mean        677.105644\n",
       "std        1522.402433\n",
       "min           0.100000\n",
       "25%         180.250000\n",
       "50%         299.000000\n",
       "75%         699.000000\n",
       "max      307980.000000\n",
       "Name: item_price, dtype: float64"
      ]
     },
     "execution_count": 12,
     "metadata": {
      "tags": []
     },
     "output_type": "execute_result"
    }
   ],
   "source": [
    "prices['item_price'].describe()"
   ]
  },
  {
   "cell_type": "code",
   "execution_count": 0,
   "metadata": {
    "colab": {},
    "colab_type": "code",
    "id": "iN7X4hou-Trk"
   },
   "outputs": [],
   "source": [
    "shop = df_train[['item_id', 'date_block_num', 'shop_id']]"
   ]
  },
  {
   "cell_type": "code",
   "execution_count": 11,
   "metadata": {
    "colab": {
     "base_uri": "https://localhost:8080/",
     "height": 195
    },
    "colab_type": "code",
    "id": "ERdX9tqP-Trv",
    "outputId": "6e2a7763-7e6d-4637-e18c-07efa341a94a"
   },
   "outputs": [
    {
     "data": {
      "text/html": [
       "<div>\n",
       "<style scoped>\n",
       "    .dataframe tbody tr th:only-of-type {\n",
       "        vertical-align: middle;\n",
       "    }\n",
       "\n",
       "    .dataframe tbody tr th {\n",
       "        vertical-align: top;\n",
       "    }\n",
       "\n",
       "    .dataframe thead th {\n",
       "        text-align: right;\n",
       "    }\n",
       "</style>\n",
       "<table border=\"1\" class=\"dataframe\">\n",
       "  <thead>\n",
       "    <tr style=\"text-align: right;\">\n",
       "      <th></th>\n",
       "      <th>item_id</th>\n",
       "      <th>date_block_num</th>\n",
       "      <th>monthly_label</th>\n",
       "      <th>item_price</th>\n",
       "      <th>shop_id</th>\n",
       "    </tr>\n",
       "  </thead>\n",
       "  <tbody>\n",
       "    <tr>\n",
       "      <th>0</th>\n",
       "      <td>0</td>\n",
       "      <td>20</td>\n",
       "      <td>1.0</td>\n",
       "      <td>58.0</td>\n",
       "      <td>54</td>\n",
       "    </tr>\n",
       "    <tr>\n",
       "      <th>1</th>\n",
       "      <td>1</td>\n",
       "      <td>15</td>\n",
       "      <td>2.0</td>\n",
       "      <td>4490.0</td>\n",
       "      <td>55</td>\n",
       "    </tr>\n",
       "    <tr>\n",
       "      <th>2</th>\n",
       "      <td>1</td>\n",
       "      <td>15</td>\n",
       "      <td>2.0</td>\n",
       "      <td>4490.0</td>\n",
       "      <td>55</td>\n",
       "    </tr>\n",
       "    <tr>\n",
       "      <th>3</th>\n",
       "      <td>1</td>\n",
       "      <td>18</td>\n",
       "      <td>1.0</td>\n",
       "      <td>4490.0</td>\n",
       "      <td>55</td>\n",
       "    </tr>\n",
       "    <tr>\n",
       "      <th>4</th>\n",
       "      <td>1</td>\n",
       "      <td>19</td>\n",
       "      <td>1.0</td>\n",
       "      <td>4490.0</td>\n",
       "      <td>55</td>\n",
       "    </tr>\n",
       "  </tbody>\n",
       "</table>\n",
       "</div>"
      ],
      "text/plain": [
       "   item_id  date_block_num  monthly_label  item_price  shop_id\n",
       "0        0              20            1.0        58.0       54\n",
       "1        1              15            2.0      4490.0       55\n",
       "2        1              15            2.0      4490.0       55\n",
       "3        1              18            1.0      4490.0       55\n",
       "4        1              19            1.0      4490.0       55"
      ]
     },
     "execution_count": 11,
     "metadata": {
      "tags": []
     },
     "output_type": "execute_result"
    }
   ],
   "source": [
    "# juntar os dataframes 'prices' e 'shop' para agregar a coluna shop_id\n",
    "\n",
    "data = pd.merge(prices, shop, on=['item_id', 'date_block_num'])\n",
    "data.head()"
   ]
  },
  {
   "cell_type": "code",
   "execution_count": 12,
   "metadata": {
    "colab": {
     "base_uri": "https://localhost:8080/",
     "height": 34
    },
    "colab_type": "code",
    "id": "WZaHZbjQ-Tr8",
    "outputId": "c2d7c16a-fa19-402a-a836-ac3faa9a4907"
   },
   "outputs": [
    {
     "data": {
      "text/plain": [
       "(233912, 5)"
      ]
     },
     "execution_count": 12,
     "metadata": {
      "tags": []
     },
     "output_type": "execute_result"
    }
   ],
   "source": [
    "# é preciso deletar as informações duplicadas de um mesmo item em um mesmo mês. O que interessa é somente a informação de cada item em cada mês\n",
    "data = data.drop_duplicates(subset =['item_id', 'date_block_num'])\n",
    "data.shape"
   ]
  },
  {
   "cell_type": "code",
   "execution_count": 0,
   "metadata": {
    "colab": {},
    "colab_type": "code",
    "id": "U5TvLTfU-TsG"
   },
   "outputs": [],
   "source": [
    "category = df_items[['item_id', 'item_category_id']]"
   ]
  },
  {
   "cell_type": "code",
   "execution_count": 100,
   "metadata": {
    "colab": {
     "base_uri": "https://localhost:8080/",
     "height": 34
    },
    "colab_type": "code",
    "id": "N91WeQf0-TsN",
    "outputId": "4910de9a-e3ed-4f05-f2a2-d145c9c5f1ee"
   },
   "outputs": [
    {
     "data": {
      "text/plain": [
       "(233912, 6)"
      ]
     },
     "execution_count": 100,
     "metadata": {
      "tags": []
     },
     "output_type": "execute_result"
    }
   ],
   "source": [
    "# agregando a coluna 'item_category_id' ao dataframe\n",
    "\n",
    "data_train = pd.merge(data, category, on=['item_id'])\n",
    "data_train.shape"
   ]
  },
  {
   "cell_type": "code",
   "execution_count": 101,
   "metadata": {
    "colab": {
     "base_uri": "https://localhost:8080/",
     "height": 195
    },
    "colab_type": "code",
    "id": "NmR6cbPB-TsT",
    "outputId": "6b50cd43-69da-4074-8da4-65a9b38403ff",
    "scrolled": true
   },
   "outputs": [
    {
     "data": {
      "text/html": [
       "<div>\n",
       "<style scoped>\n",
       "    .dataframe tbody tr th:only-of-type {\n",
       "        vertical-align: middle;\n",
       "    }\n",
       "\n",
       "    .dataframe tbody tr th {\n",
       "        vertical-align: top;\n",
       "    }\n",
       "\n",
       "    .dataframe thead th {\n",
       "        text-align: right;\n",
       "    }\n",
       "</style>\n",
       "<table border=\"1\" class=\"dataframe\">\n",
       "  <thead>\n",
       "    <tr style=\"text-align: right;\">\n",
       "      <th></th>\n",
       "      <th>item_id</th>\n",
       "      <th>item_category_id</th>\n",
       "      <th>date_block_num</th>\n",
       "      <th>item_price</th>\n",
       "      <th>shop_id</th>\n",
       "      <th>monthly_label</th>\n",
       "    </tr>\n",
       "  </thead>\n",
       "  <tbody>\n",
       "    <tr>\n",
       "      <th>0</th>\n",
       "      <td>0</td>\n",
       "      <td>40</td>\n",
       "      <td>20</td>\n",
       "      <td>58.0</td>\n",
       "      <td>54</td>\n",
       "      <td>1.0</td>\n",
       "    </tr>\n",
       "    <tr>\n",
       "      <th>1</th>\n",
       "      <td>1</td>\n",
       "      <td>76</td>\n",
       "      <td>15</td>\n",
       "      <td>4490.0</td>\n",
       "      <td>55</td>\n",
       "      <td>2.0</td>\n",
       "    </tr>\n",
       "    <tr>\n",
       "      <th>2</th>\n",
       "      <td>1</td>\n",
       "      <td>76</td>\n",
       "      <td>18</td>\n",
       "      <td>4490.0</td>\n",
       "      <td>55</td>\n",
       "      <td>1.0</td>\n",
       "    </tr>\n",
       "    <tr>\n",
       "      <th>3</th>\n",
       "      <td>1</td>\n",
       "      <td>76</td>\n",
       "      <td>19</td>\n",
       "      <td>4490.0</td>\n",
       "      <td>55</td>\n",
       "      <td>1.0</td>\n",
       "    </tr>\n",
       "    <tr>\n",
       "      <th>4</th>\n",
       "      <td>1</td>\n",
       "      <td>76</td>\n",
       "      <td>20</td>\n",
       "      <td>4490.0</td>\n",
       "      <td>55</td>\n",
       "      <td>1.0</td>\n",
       "    </tr>\n",
       "  </tbody>\n",
       "</table>\n",
       "</div>"
      ],
      "text/plain": [
       "   item_id  item_category_id  ...  shop_id  monthly_label\n",
       "0        0                40  ...       54            1.0\n",
       "1        1                76  ...       55            2.0\n",
       "2        1                76  ...       55            1.0\n",
       "3        1                76  ...       55            1.0\n",
       "4        1                76  ...       55            1.0\n",
       "\n",
       "[5 rows x 6 columns]"
      ]
     },
     "execution_count": 101,
     "metadata": {
      "tags": []
     },
     "output_type": "execute_result"
    }
   ],
   "source": [
    "data_train = data_train[['item_id', 'item_category_id', 'date_block_num', 'item_price', 'shop_id', 'monthly_label']]\n",
    "data_train.head()"
   ]
  },
  {
   "cell_type": "code",
   "execution_count": 102,
   "metadata": {
    "colab": {
     "base_uri": "https://localhost:8080/",
     "height": 195
    },
    "colab_type": "code",
    "id": "dOFo423RpagP",
    "outputId": "27056b10-df84-4a5d-be2f-a45261bc02b4"
   },
   "outputs": [
    {
     "data": {
      "text/html": [
       "<div>\n",
       "<style scoped>\n",
       "    .dataframe tbody tr th:only-of-type {\n",
       "        vertical-align: middle;\n",
       "    }\n",
       "\n",
       "    .dataframe tbody tr th {\n",
       "        vertical-align: top;\n",
       "    }\n",
       "\n",
       "    .dataframe thead th {\n",
       "        text-align: right;\n",
       "    }\n",
       "</style>\n",
       "<table border=\"1\" class=\"dataframe\">\n",
       "  <thead>\n",
       "    <tr style=\"text-align: right;\">\n",
       "      <th></th>\n",
       "      <th>item_id</th>\n",
       "      <th>item_category_id</th>\n",
       "      <th>date_block_num</th>\n",
       "      <th>item_price</th>\n",
       "      <th>shop_id</th>\n",
       "      <th>monthly_label</th>\n",
       "    </tr>\n",
       "  </thead>\n",
       "  <tbody>\n",
       "    <tr>\n",
       "      <th>26</th>\n",
       "      <td>19</td>\n",
       "      <td>40</td>\n",
       "      <td>0</td>\n",
       "      <td>28.0</td>\n",
       "      <td>25</td>\n",
       "      <td>1.0</td>\n",
       "    </tr>\n",
       "    <tr>\n",
       "      <th>34</th>\n",
       "      <td>27</td>\n",
       "      <td>19</td>\n",
       "      <td>0</td>\n",
       "      <td>2499.0</td>\n",
       "      <td>19</td>\n",
       "      <td>7.0</td>\n",
       "    </tr>\n",
       "    <tr>\n",
       "      <th>50</th>\n",
       "      <td>28</td>\n",
       "      <td>30</td>\n",
       "      <td>0</td>\n",
       "      <td>549.0</td>\n",
       "      <td>15</td>\n",
       "      <td>8.0</td>\n",
       "    </tr>\n",
       "    <tr>\n",
       "      <th>63</th>\n",
       "      <td>29</td>\n",
       "      <td>23</td>\n",
       "      <td>0</td>\n",
       "      <td>2499.0</td>\n",
       "      <td>28</td>\n",
       "      <td>6.0</td>\n",
       "    </tr>\n",
       "    <tr>\n",
       "      <th>136</th>\n",
       "      <td>32</td>\n",
       "      <td>40</td>\n",
       "      <td>0</td>\n",
       "      <td>349.0</td>\n",
       "      <td>24</td>\n",
       "      <td>299.0</td>\n",
       "    </tr>\n",
       "  </tbody>\n",
       "</table>\n",
       "</div>"
      ],
      "text/plain": [
       "     item_id  item_category_id  ...  shop_id  monthly_label\n",
       "26        19                40  ...       25            1.0\n",
       "34        27                19  ...       19            7.0\n",
       "50        28                30  ...       15            8.0\n",
       "63        29                23  ...       28            6.0\n",
       "136       32                40  ...       24          299.0\n",
       "\n",
       "[5 rows x 6 columns]"
      ]
     },
     "execution_count": 102,
     "metadata": {
      "tags": []
     },
     "output_type": "execute_result"
    }
   ],
   "source": [
    "# sorting the dataset by date_block_num\n",
    "\n",
    "data_train = data_train.sort_values(by=['date_block_num', 'item_id'], ascending=True)\n",
    "data_train.head()"
   ]
  },
  {
   "cell_type": "code",
   "execution_count": 103,
   "metadata": {
    "colab": {
     "base_uri": "https://localhost:8080/",
     "height": 195
    },
    "colab_type": "code",
    "id": "XSFFxWMoqKnB",
    "outputId": "9cf9e920-26d5-4b13-b603-4a2adde084ca"
   },
   "outputs": [
    {
     "data": {
      "text/html": [
       "<div>\n",
       "<style scoped>\n",
       "    .dataframe tbody tr th:only-of-type {\n",
       "        vertical-align: middle;\n",
       "    }\n",
       "\n",
       "    .dataframe tbody tr th {\n",
       "        vertical-align: top;\n",
       "    }\n",
       "\n",
       "    .dataframe thead th {\n",
       "        text-align: right;\n",
       "    }\n",
       "</style>\n",
       "<table border=\"1\" class=\"dataframe\">\n",
       "  <thead>\n",
       "    <tr style=\"text-align: right;\">\n",
       "      <th></th>\n",
       "      <th>item_id</th>\n",
       "      <th>item_category_id</th>\n",
       "      <th>date_block_num</th>\n",
       "      <th>item_price</th>\n",
       "      <th>shop_id</th>\n",
       "      <th>monthly_label</th>\n",
       "      <th>Last_Month_Sales</th>\n",
       "    </tr>\n",
       "  </thead>\n",
       "  <tbody>\n",
       "    <tr>\n",
       "      <th>26</th>\n",
       "      <td>19</td>\n",
       "      <td>40</td>\n",
       "      <td>0</td>\n",
       "      <td>28.0</td>\n",
       "      <td>25</td>\n",
       "      <td>1.0</td>\n",
       "      <td>NaN</td>\n",
       "    </tr>\n",
       "    <tr>\n",
       "      <th>34</th>\n",
       "      <td>27</td>\n",
       "      <td>19</td>\n",
       "      <td>0</td>\n",
       "      <td>2499.0</td>\n",
       "      <td>19</td>\n",
       "      <td>7.0</td>\n",
       "      <td>NaN</td>\n",
       "    </tr>\n",
       "    <tr>\n",
       "      <th>50</th>\n",
       "      <td>28</td>\n",
       "      <td>30</td>\n",
       "      <td>0</td>\n",
       "      <td>549.0</td>\n",
       "      <td>15</td>\n",
       "      <td>8.0</td>\n",
       "      <td>NaN</td>\n",
       "    </tr>\n",
       "    <tr>\n",
       "      <th>63</th>\n",
       "      <td>29</td>\n",
       "      <td>23</td>\n",
       "      <td>0</td>\n",
       "      <td>2499.0</td>\n",
       "      <td>28</td>\n",
       "      <td>6.0</td>\n",
       "      <td>NaN</td>\n",
       "    </tr>\n",
       "    <tr>\n",
       "      <th>136</th>\n",
       "      <td>32</td>\n",
       "      <td>40</td>\n",
       "      <td>0</td>\n",
       "      <td>349.0</td>\n",
       "      <td>24</td>\n",
       "      <td>299.0</td>\n",
       "      <td>NaN</td>\n",
       "    </tr>\n",
       "  </tbody>\n",
       "</table>\n",
       "</div>"
      ],
      "text/plain": [
       "     item_id  item_category_id  ...  monthly_label  Last_Month_Sales\n",
       "26        19                40  ...            1.0               NaN\n",
       "34        27                19  ...            7.0               NaN\n",
       "50        28                30  ...            8.0               NaN\n",
       "63        29                23  ...            6.0               NaN\n",
       "136       32                40  ...          299.0               NaN\n",
       "\n",
       "[5 rows x 7 columns]"
      ]
     },
     "execution_count": 103,
     "metadata": {
      "tags": []
     },
     "output_type": "execute_result"
    }
   ],
   "source": [
    "# basic feature engineering\n",
    "# function to calculate last month sales and the difference between last month and current month\n",
    "data_train['Last_Month_Sales'] = data_train.groupby(['item_id'])['monthly_label'].shift()\n",
    "data_train.head()"
   ]
  },
  {
   "cell_type": "code",
   "execution_count": 104,
   "metadata": {
    "colab": {
     "base_uri": "https://localhost:8080/",
     "height": 195
    },
    "colab_type": "code",
    "id": "k_Bz2ctpxK7A",
    "outputId": "c9c2ca3b-4dcb-47e2-c97b-e65bcd5c7d7e"
   },
   "outputs": [
    {
     "data": {
      "text/html": [
       "<div>\n",
       "<style scoped>\n",
       "    .dataframe tbody tr th:only-of-type {\n",
       "        vertical-align: middle;\n",
       "    }\n",
       "\n",
       "    .dataframe tbody tr th {\n",
       "        vertical-align: top;\n",
       "    }\n",
       "\n",
       "    .dataframe thead th {\n",
       "        text-align: right;\n",
       "    }\n",
       "</style>\n",
       "<table border=\"1\" class=\"dataframe\">\n",
       "  <thead>\n",
       "    <tr style=\"text-align: right;\">\n",
       "      <th></th>\n",
       "      <th>item_id</th>\n",
       "      <th>item_category_id</th>\n",
       "      <th>date_block_num</th>\n",
       "      <th>item_price</th>\n",
       "      <th>shop_id</th>\n",
       "      <th>monthly_label</th>\n",
       "      <th>Last_Month_Sales</th>\n",
       "    </tr>\n",
       "  </thead>\n",
       "  <tbody>\n",
       "    <tr>\n",
       "      <th>26</th>\n",
       "      <td>19</td>\n",
       "      <td>40</td>\n",
       "      <td>0</td>\n",
       "      <td>28.0</td>\n",
       "      <td>25</td>\n",
       "      <td>1.0</td>\n",
       "      <td>0.0</td>\n",
       "    </tr>\n",
       "    <tr>\n",
       "      <th>34</th>\n",
       "      <td>27</td>\n",
       "      <td>19</td>\n",
       "      <td>0</td>\n",
       "      <td>2499.0</td>\n",
       "      <td>19</td>\n",
       "      <td>7.0</td>\n",
       "      <td>0.0</td>\n",
       "    </tr>\n",
       "    <tr>\n",
       "      <th>50</th>\n",
       "      <td>28</td>\n",
       "      <td>30</td>\n",
       "      <td>0</td>\n",
       "      <td>549.0</td>\n",
       "      <td>15</td>\n",
       "      <td>8.0</td>\n",
       "      <td>0.0</td>\n",
       "    </tr>\n",
       "    <tr>\n",
       "      <th>63</th>\n",
       "      <td>29</td>\n",
       "      <td>23</td>\n",
       "      <td>0</td>\n",
       "      <td>2499.0</td>\n",
       "      <td>28</td>\n",
       "      <td>6.0</td>\n",
       "      <td>0.0</td>\n",
       "    </tr>\n",
       "    <tr>\n",
       "      <th>136</th>\n",
       "      <td>32</td>\n",
       "      <td>40</td>\n",
       "      <td>0</td>\n",
       "      <td>349.0</td>\n",
       "      <td>24</td>\n",
       "      <td>299.0</td>\n",
       "      <td>0.0</td>\n",
       "    </tr>\n",
       "  </tbody>\n",
       "</table>\n",
       "</div>"
      ],
      "text/plain": [
       "     item_id  item_category_id  ...  monthly_label  Last_Month_Sales\n",
       "26        19                40  ...            1.0               0.0\n",
       "34        27                19  ...            7.0               0.0\n",
       "50        28                30  ...            8.0               0.0\n",
       "63        29                23  ...            6.0               0.0\n",
       "136       32                40  ...          299.0               0.0\n",
       "\n",
       "[5 rows x 7 columns]"
      ]
     },
     "execution_count": 104,
     "metadata": {
      "tags": []
     },
     "output_type": "execute_result"
    }
   ],
   "source": [
    "data_train = data_train.fillna(0)\n",
    "data_train.head()"
   ]
  },
  {
   "cell_type": "markdown",
   "metadata": {
    "colab_type": "text",
    "id": "VABILlnAu5VM"
   },
   "source": [
    "# Pushing hard the feature engineering process"
   ]
  },
  {
   "cell_type": "code",
   "execution_count": 0,
   "metadata": {
    "colab": {},
    "colab_type": "code",
    "id": "sDQjBNpExfYj"
   },
   "outputs": [],
   "source": [
    "# creating columns with max, min and mean monthly sales by item_id\n",
    "\n",
    "data_train = pd.merge(data_train, pd.DataFrame(data_train.groupby(['item_id'])['monthly_label'].max().rename('month_max_sales')).reset_index(), on='item_id')\n",
    "data_train = pd.merge(data_train, pd.DataFrame(data_train.groupby(['item_id'])['monthly_label'].min().rename('month_min_sales')).reset_index(), on='item_id')\n",
    "data_train = pd.merge(data_train, pd.DataFrame(data_train.groupby(['item_id'])['monthly_label'].mean().rename('month_average_sales')).reset_index(), on='item_id')"
   ]
  },
  {
   "cell_type": "code",
   "execution_count": 109,
   "metadata": {
    "colab": {
     "base_uri": "https://localhost:8080/",
     "height": 215
    },
    "colab_type": "code",
    "id": "WGwpyyoI35z-",
    "outputId": "d689873f-5364-49dd-e56b-cc9cccb779f2"
   },
   "outputs": [
    {
     "data": {
      "text/html": [
       "<div>\n",
       "<style scoped>\n",
       "    .dataframe tbody tr th:only-of-type {\n",
       "        vertical-align: middle;\n",
       "    }\n",
       "\n",
       "    .dataframe tbody tr th {\n",
       "        vertical-align: top;\n",
       "    }\n",
       "\n",
       "    .dataframe thead th {\n",
       "        text-align: right;\n",
       "    }\n",
       "</style>\n",
       "<table border=\"1\" class=\"dataframe\">\n",
       "  <thead>\n",
       "    <tr style=\"text-align: right;\">\n",
       "      <th></th>\n",
       "      <th>item_id</th>\n",
       "      <th>item_category_id</th>\n",
       "      <th>date_block_num</th>\n",
       "      <th>item_price</th>\n",
       "      <th>shop_id</th>\n",
       "      <th>monthly_label</th>\n",
       "      <th>Last_Month_Sales</th>\n",
       "      <th>month_max_sales</th>\n",
       "      <th>month_min_sales</th>\n",
       "      <th>month_average_sales</th>\n",
       "    </tr>\n",
       "  </thead>\n",
       "  <tbody>\n",
       "    <tr>\n",
       "      <th>0</th>\n",
       "      <td>19</td>\n",
       "      <td>40</td>\n",
       "      <td>0</td>\n",
       "      <td>28.0</td>\n",
       "      <td>25</td>\n",
       "      <td>1.0</td>\n",
       "      <td>0.0</td>\n",
       "      <td>1.0</td>\n",
       "      <td>1.0</td>\n",
       "      <td>1.000</td>\n",
       "    </tr>\n",
       "    <tr>\n",
       "      <th>1</th>\n",
       "      <td>27</td>\n",
       "      <td>19</td>\n",
       "      <td>0</td>\n",
       "      <td>2499.0</td>\n",
       "      <td>19</td>\n",
       "      <td>7.0</td>\n",
       "      <td>0.0</td>\n",
       "      <td>7.0</td>\n",
       "      <td>1.0</td>\n",
       "      <td>2.625</td>\n",
       "    </tr>\n",
       "    <tr>\n",
       "      <th>2</th>\n",
       "      <td>27</td>\n",
       "      <td>19</td>\n",
       "      <td>1</td>\n",
       "      <td>1998.0</td>\n",
       "      <td>56</td>\n",
       "      <td>3.0</td>\n",
       "      <td>7.0</td>\n",
       "      <td>7.0</td>\n",
       "      <td>1.0</td>\n",
       "      <td>2.625</td>\n",
       "    </tr>\n",
       "    <tr>\n",
       "      <th>3</th>\n",
       "      <td>27</td>\n",
       "      <td>19</td>\n",
       "      <td>2</td>\n",
       "      <td>1998.0</td>\n",
       "      <td>32</td>\n",
       "      <td>4.0</td>\n",
       "      <td>3.0</td>\n",
       "      <td>7.0</td>\n",
       "      <td>1.0</td>\n",
       "      <td>2.625</td>\n",
       "    </tr>\n",
       "    <tr>\n",
       "      <th>4</th>\n",
       "      <td>27</td>\n",
       "      <td>19</td>\n",
       "      <td>3</td>\n",
       "      <td>1998.0</td>\n",
       "      <td>14</td>\n",
       "      <td>1.0</td>\n",
       "      <td>4.0</td>\n",
       "      <td>7.0</td>\n",
       "      <td>1.0</td>\n",
       "      <td>2.625</td>\n",
       "    </tr>\n",
       "  </tbody>\n",
       "</table>\n",
       "</div>"
      ],
      "text/plain": [
       "   item_id  item_category_id  ...  month_min_sales  month_average_sales\n",
       "0       19                40  ...              1.0                1.000\n",
       "1       27                19  ...              1.0                2.625\n",
       "2       27                19  ...              1.0                2.625\n",
       "3       27                19  ...              1.0                2.625\n",
       "4       27                19  ...              1.0                2.625\n",
       "\n",
       "[5 rows x 10 columns]"
      ]
     },
     "execution_count": 109,
     "metadata": {
      "tags": []
     },
     "output_type": "execute_result"
    }
   ],
   "source": [
    "data_train.head()"
   ]
  },
  {
   "cell_type": "code",
   "execution_count": 0,
   "metadata": {
    "colab": {},
    "colab_type": "code",
    "id": "q_kZ9--Hy1tT"
   },
   "outputs": [],
   "source": [
    "# creating columns with max, min and mean monthly sales by shop_id\n",
    "\n",
    "data_train = pd.merge(data_train, pd.DataFrame(data_train.groupby(['shop_id'])['monthly_label'].max().rename('shop_max_sales')).reset_index(), on='shop_id')\n",
    "data_train = pd.merge(data_train, pd.DataFrame(data_train.groupby(['shop_id'])['monthly_label'].min().rename('shop_min_sales')).reset_index(), on='shop_id')\n",
    "data_train = pd.merge(data_train, pd.DataFrame(data_train.groupby(['shop_id'])['monthly_label'].mean().rename('shop_average_sales')).reset_index(), on='shop_id')"
   ]
  },
  {
   "cell_type": "code",
   "execution_count": 111,
   "metadata": {
    "colab": {
     "base_uri": "https://localhost:8080/",
     "height": 215
    },
    "colab_type": "code",
    "id": "bliJtKv3zo0j",
    "outputId": "d26c3534-c20e-49f9-eb0f-4695e0ba05c8"
   },
   "outputs": [
    {
     "data": {
      "text/html": [
       "<div>\n",
       "<style scoped>\n",
       "    .dataframe tbody tr th:only-of-type {\n",
       "        vertical-align: middle;\n",
       "    }\n",
       "\n",
       "    .dataframe tbody tr th {\n",
       "        vertical-align: top;\n",
       "    }\n",
       "\n",
       "    .dataframe thead th {\n",
       "        text-align: right;\n",
       "    }\n",
       "</style>\n",
       "<table border=\"1\" class=\"dataframe\">\n",
       "  <thead>\n",
       "    <tr style=\"text-align: right;\">\n",
       "      <th></th>\n",
       "      <th>item_id</th>\n",
       "      <th>item_category_id</th>\n",
       "      <th>date_block_num</th>\n",
       "      <th>item_price</th>\n",
       "      <th>shop_id</th>\n",
       "      <th>monthly_label</th>\n",
       "      <th>Last_Month_Sales</th>\n",
       "      <th>month_max_sales</th>\n",
       "      <th>month_min_sales</th>\n",
       "      <th>month_average_sales</th>\n",
       "      <th>shop_max_sales</th>\n",
       "      <th>shop_min_sales</th>\n",
       "      <th>shop_average_sales</th>\n",
       "    </tr>\n",
       "  </thead>\n",
       "  <tbody>\n",
       "    <tr>\n",
       "      <th>0</th>\n",
       "      <td>19</td>\n",
       "      <td>40</td>\n",
       "      <td>0</td>\n",
       "      <td>28.0</td>\n",
       "      <td>25</td>\n",
       "      <td>1.0</td>\n",
       "      <td>0.0</td>\n",
       "      <td>1.0</td>\n",
       "      <td>1.0</td>\n",
       "      <td>1.000000</td>\n",
       "      <td>12557.0</td>\n",
       "      <td>1.0</td>\n",
       "      <td>11.670768</td>\n",
       "    </tr>\n",
       "    <tr>\n",
       "      <th>1</th>\n",
       "      <td>33</td>\n",
       "      <td>37</td>\n",
       "      <td>3</td>\n",
       "      <td>499.0</td>\n",
       "      <td>25</td>\n",
       "      <td>16.0</td>\n",
       "      <td>32.0</td>\n",
       "      <td>61.0</td>\n",
       "      <td>11.0</td>\n",
       "      <td>24.823529</td>\n",
       "      <td>12557.0</td>\n",
       "      <td>1.0</td>\n",
       "      <td>11.670768</td>\n",
       "    </tr>\n",
       "    <tr>\n",
       "      <th>2</th>\n",
       "      <td>34</td>\n",
       "      <td>40</td>\n",
       "      <td>3</td>\n",
       "      <td>149.0</td>\n",
       "      <td>25</td>\n",
       "      <td>12.0</td>\n",
       "      <td>8.0</td>\n",
       "      <td>15.0</td>\n",
       "      <td>1.0</td>\n",
       "      <td>6.777778</td>\n",
       "      <td>12557.0</td>\n",
       "      <td>1.0</td>\n",
       "      <td>11.670768</td>\n",
       "    </tr>\n",
       "    <tr>\n",
       "      <th>3</th>\n",
       "      <td>35</td>\n",
       "      <td>40</td>\n",
       "      <td>0</td>\n",
       "      <td>399.0</td>\n",
       "      <td>25</td>\n",
       "      <td>78.0</td>\n",
       "      <td>0.0</td>\n",
       "      <td>119.0</td>\n",
       "      <td>1.0</td>\n",
       "      <td>44.400000</td>\n",
       "      <td>12557.0</td>\n",
       "      <td>1.0</td>\n",
       "      <td>11.670768</td>\n",
       "    </tr>\n",
       "    <tr>\n",
       "      <th>4</th>\n",
       "      <td>40</td>\n",
       "      <td>57</td>\n",
       "      <td>1</td>\n",
       "      <td>249.0</td>\n",
       "      <td>25</td>\n",
       "      <td>5.0</td>\n",
       "      <td>4.0</td>\n",
       "      <td>11.0</td>\n",
       "      <td>1.0</td>\n",
       "      <td>3.357143</td>\n",
       "      <td>12557.0</td>\n",
       "      <td>1.0</td>\n",
       "      <td>11.670768</td>\n",
       "    </tr>\n",
       "  </tbody>\n",
       "</table>\n",
       "</div>"
      ],
      "text/plain": [
       "   item_id  item_category_id  ...  shop_min_sales  shop_average_sales\n",
       "0       19                40  ...             1.0           11.670768\n",
       "1       33                37  ...             1.0           11.670768\n",
       "2       34                40  ...             1.0           11.670768\n",
       "3       35                40  ...             1.0           11.670768\n",
       "4       40                57  ...             1.0           11.670768\n",
       "\n",
       "[5 rows x 13 columns]"
      ]
     },
     "execution_count": 111,
     "metadata": {
      "tags": []
     },
     "output_type": "execute_result"
    }
   ],
   "source": [
    "data_train.head()"
   ]
  },
  {
   "cell_type": "code",
   "execution_count": 0,
   "metadata": {
    "colab": {},
    "colab_type": "code",
    "id": "DTbksm9Sz6c2"
   },
   "outputs": [],
   "source": [
    "# creating columns with max, min and mean monthly sales by item_category_id\n",
    "\n",
    "data_train = pd.merge(data_train, pd.DataFrame(data_train.groupby(['item_category_id'])['monthly_label'].max().rename('category_max_sales')).reset_index(), on='item_category_id')\n",
    "data_train = pd.merge(data_train, pd.DataFrame(data_train.groupby(['item_category_id'])['monthly_label'].min().rename('category_min_sales')).reset_index(), on='item_category_id')\n",
    "data_train = pd.merge(data_train, pd.DataFrame(data_train.groupby(['item_category_id'])['monthly_label'].mean().rename('category_average_sales')).reset_index(), on='item_category_id')"
   ]
  },
  {
   "cell_type": "code",
   "execution_count": 114,
   "metadata": {
    "colab": {
     "base_uri": "https://localhost:8080/",
     "height": 215
    },
    "colab_type": "code",
    "id": "AioMzLLf-3Rg",
    "outputId": "1f9fc778-37e4-4087-f439-24d40e90fe42"
   },
   "outputs": [
    {
     "data": {
      "text/html": [
       "<div>\n",
       "<style scoped>\n",
       "    .dataframe tbody tr th:only-of-type {\n",
       "        vertical-align: middle;\n",
       "    }\n",
       "\n",
       "    .dataframe tbody tr th {\n",
       "        vertical-align: top;\n",
       "    }\n",
       "\n",
       "    .dataframe thead th {\n",
       "        text-align: right;\n",
       "    }\n",
       "</style>\n",
       "<table border=\"1\" class=\"dataframe\">\n",
       "  <thead>\n",
       "    <tr style=\"text-align: right;\">\n",
       "      <th></th>\n",
       "      <th>item_id</th>\n",
       "      <th>item_category_id</th>\n",
       "      <th>date_block_num</th>\n",
       "      <th>item_price</th>\n",
       "      <th>shop_id</th>\n",
       "      <th>monthly_label</th>\n",
       "      <th>Last_Month_Sales</th>\n",
       "      <th>month_max_sales</th>\n",
       "      <th>month_min_sales</th>\n",
       "      <th>month_average_sales</th>\n",
       "      <th>shop_max_sales</th>\n",
       "      <th>shop_min_sales</th>\n",
       "      <th>shop_average_sales</th>\n",
       "      <th>category_max_sales</th>\n",
       "      <th>category_min_sales</th>\n",
       "      <th>category_average_sales</th>\n",
       "    </tr>\n",
       "  </thead>\n",
       "  <tbody>\n",
       "    <tr>\n",
       "      <th>0</th>\n",
       "      <td>19</td>\n",
       "      <td>40</td>\n",
       "      <td>0</td>\n",
       "      <td>28.0</td>\n",
       "      <td>25</td>\n",
       "      <td>1.0</td>\n",
       "      <td>0.0</td>\n",
       "      <td>1.0</td>\n",
       "      <td>1.0</td>\n",
       "      <td>1.000000</td>\n",
       "      <td>12557.0</td>\n",
       "      <td>1.0</td>\n",
       "      <td>11.670768</td>\n",
       "      <td>1401.0</td>\n",
       "      <td>1.0</td>\n",
       "      <td>11.855094</td>\n",
       "    </tr>\n",
       "    <tr>\n",
       "      <th>1</th>\n",
       "      <td>34</td>\n",
       "      <td>40</td>\n",
       "      <td>3</td>\n",
       "      <td>149.0</td>\n",
       "      <td>25</td>\n",
       "      <td>12.0</td>\n",
       "      <td>8.0</td>\n",
       "      <td>15.0</td>\n",
       "      <td>1.0</td>\n",
       "      <td>6.777778</td>\n",
       "      <td>12557.0</td>\n",
       "      <td>1.0</td>\n",
       "      <td>11.670768</td>\n",
       "      <td>1401.0</td>\n",
       "      <td>1.0</td>\n",
       "      <td>11.855094</td>\n",
       "    </tr>\n",
       "    <tr>\n",
       "      <th>2</th>\n",
       "      <td>35</td>\n",
       "      <td>40</td>\n",
       "      <td>0</td>\n",
       "      <td>399.0</td>\n",
       "      <td>25</td>\n",
       "      <td>78.0</td>\n",
       "      <td>0.0</td>\n",
       "      <td>119.0</td>\n",
       "      <td>1.0</td>\n",
       "      <td>44.400000</td>\n",
       "      <td>12557.0</td>\n",
       "      <td>1.0</td>\n",
       "      <td>11.670768</td>\n",
       "      <td>1401.0</td>\n",
       "      <td>1.0</td>\n",
       "      <td>11.855094</td>\n",
       "    </tr>\n",
       "    <tr>\n",
       "      <th>3</th>\n",
       "      <td>72</td>\n",
       "      <td>40</td>\n",
       "      <td>0</td>\n",
       "      <td>119.0</td>\n",
       "      <td>25</td>\n",
       "      <td>4.0</td>\n",
       "      <td>0.0</td>\n",
       "      <td>10.0</td>\n",
       "      <td>1.0</td>\n",
       "      <td>3.411765</td>\n",
       "      <td>12557.0</td>\n",
       "      <td>1.0</td>\n",
       "      <td>11.670768</td>\n",
       "      <td>1401.0</td>\n",
       "      <td>1.0</td>\n",
       "      <td>11.855094</td>\n",
       "    </tr>\n",
       "    <tr>\n",
       "      <th>4</th>\n",
       "      <td>72</td>\n",
       "      <td>40</td>\n",
       "      <td>3</td>\n",
       "      <td>119.0</td>\n",
       "      <td>25</td>\n",
       "      <td>3.0</td>\n",
       "      <td>7.0</td>\n",
       "      <td>10.0</td>\n",
       "      <td>1.0</td>\n",
       "      <td>3.411765</td>\n",
       "      <td>12557.0</td>\n",
       "      <td>1.0</td>\n",
       "      <td>11.670768</td>\n",
       "      <td>1401.0</td>\n",
       "      <td>1.0</td>\n",
       "      <td>11.855094</td>\n",
       "    </tr>\n",
       "  </tbody>\n",
       "</table>\n",
       "</div>"
      ],
      "text/plain": [
       "   item_id  item_category_id  ...  category_min_sales  category_average_sales\n",
       "0       19                40  ...                 1.0               11.855094\n",
       "1       34                40  ...                 1.0               11.855094\n",
       "2       35                40  ...                 1.0               11.855094\n",
       "3       72                40  ...                 1.0               11.855094\n",
       "4       72                40  ...                 1.0               11.855094\n",
       "\n",
       "[5 rows x 16 columns]"
      ]
     },
     "execution_count": 114,
     "metadata": {
      "tags": []
     },
     "output_type": "execute_result"
    }
   ],
   "source": [
    "data_train.head()"
   ]
  },
  {
   "cell_type": "code",
   "execution_count": 0,
   "metadata": {
    "colab": {},
    "colab_type": "code",
    "id": "SLfCxvgf_CmV"
   },
   "outputs": [],
   "source": [
    "def item_shop_reason (item, shop):\n",
    "\n",
    "  reason = item/shop\n",
    "\n",
    "  return reason"
   ]
  },
  {
   "cell_type": "code",
   "execution_count": 118,
   "metadata": {
    "colab": {
     "base_uri": "https://localhost:8080/",
     "height": 215
    },
    "colab_type": "code",
    "id": "P9uWz7J7FnXD",
    "outputId": "efb9178e-5428-45a2-b7be-134ee68ad805"
   },
   "outputs": [
    {
     "data": {
      "text/html": [
       "<div>\n",
       "<style scoped>\n",
       "    .dataframe tbody tr th:only-of-type {\n",
       "        vertical-align: middle;\n",
       "    }\n",
       "\n",
       "    .dataframe tbody tr th {\n",
       "        vertical-align: top;\n",
       "    }\n",
       "\n",
       "    .dataframe thead th {\n",
       "        text-align: right;\n",
       "    }\n",
       "</style>\n",
       "<table border=\"1\" class=\"dataframe\">\n",
       "  <thead>\n",
       "    <tr style=\"text-align: right;\">\n",
       "      <th></th>\n",
       "      <th>item_id</th>\n",
       "      <th>item_category_id</th>\n",
       "      <th>date_block_num</th>\n",
       "      <th>item_price</th>\n",
       "      <th>shop_id</th>\n",
       "      <th>monthly_label</th>\n",
       "      <th>Last_Month_Sales</th>\n",
       "      <th>month_max_sales</th>\n",
       "      <th>month_min_sales</th>\n",
       "      <th>month_average_sales</th>\n",
       "      <th>shop_max_sales</th>\n",
       "      <th>shop_min_sales</th>\n",
       "      <th>shop_average_sales</th>\n",
       "      <th>category_max_sales</th>\n",
       "      <th>category_min_sales</th>\n",
       "      <th>category_average_sales</th>\n",
       "      <th>item_shop_rate</th>\n",
       "    </tr>\n",
       "  </thead>\n",
       "  <tbody>\n",
       "    <tr>\n",
       "      <th>0</th>\n",
       "      <td>19</td>\n",
       "      <td>40</td>\n",
       "      <td>0</td>\n",
       "      <td>28.0</td>\n",
       "      <td>25</td>\n",
       "      <td>1.0</td>\n",
       "      <td>0.0</td>\n",
       "      <td>1.0</td>\n",
       "      <td>1.0</td>\n",
       "      <td>1.000000</td>\n",
       "      <td>12557.0</td>\n",
       "      <td>1.0</td>\n",
       "      <td>11.670768</td>\n",
       "      <td>1401.0</td>\n",
       "      <td>1.0</td>\n",
       "      <td>11.855094</td>\n",
       "      <td>0.085684</td>\n",
       "    </tr>\n",
       "    <tr>\n",
       "      <th>1</th>\n",
       "      <td>34</td>\n",
       "      <td>40</td>\n",
       "      <td>3</td>\n",
       "      <td>149.0</td>\n",
       "      <td>25</td>\n",
       "      <td>12.0</td>\n",
       "      <td>8.0</td>\n",
       "      <td>15.0</td>\n",
       "      <td>1.0</td>\n",
       "      <td>6.777778</td>\n",
       "      <td>12557.0</td>\n",
       "      <td>1.0</td>\n",
       "      <td>11.670768</td>\n",
       "      <td>1401.0</td>\n",
       "      <td>1.0</td>\n",
       "      <td>11.855094</td>\n",
       "      <td>0.580748</td>\n",
       "    </tr>\n",
       "    <tr>\n",
       "      <th>2</th>\n",
       "      <td>35</td>\n",
       "      <td>40</td>\n",
       "      <td>0</td>\n",
       "      <td>399.0</td>\n",
       "      <td>25</td>\n",
       "      <td>78.0</td>\n",
       "      <td>0.0</td>\n",
       "      <td>119.0</td>\n",
       "      <td>1.0</td>\n",
       "      <td>44.400000</td>\n",
       "      <td>12557.0</td>\n",
       "      <td>1.0</td>\n",
       "      <td>11.670768</td>\n",
       "      <td>1401.0</td>\n",
       "      <td>1.0</td>\n",
       "      <td>11.855094</td>\n",
       "      <td>3.804377</td>\n",
       "    </tr>\n",
       "    <tr>\n",
       "      <th>3</th>\n",
       "      <td>72</td>\n",
       "      <td>40</td>\n",
       "      <td>0</td>\n",
       "      <td>119.0</td>\n",
       "      <td>25</td>\n",
       "      <td>4.0</td>\n",
       "      <td>0.0</td>\n",
       "      <td>10.0</td>\n",
       "      <td>1.0</td>\n",
       "      <td>3.411765</td>\n",
       "      <td>12557.0</td>\n",
       "      <td>1.0</td>\n",
       "      <td>11.670768</td>\n",
       "      <td>1401.0</td>\n",
       "      <td>1.0</td>\n",
       "      <td>11.855094</td>\n",
       "      <td>0.292334</td>\n",
       "    </tr>\n",
       "    <tr>\n",
       "      <th>4</th>\n",
       "      <td>72</td>\n",
       "      <td>40</td>\n",
       "      <td>3</td>\n",
       "      <td>119.0</td>\n",
       "      <td>25</td>\n",
       "      <td>3.0</td>\n",
       "      <td>7.0</td>\n",
       "      <td>10.0</td>\n",
       "      <td>1.0</td>\n",
       "      <td>3.411765</td>\n",
       "      <td>12557.0</td>\n",
       "      <td>1.0</td>\n",
       "      <td>11.670768</td>\n",
       "      <td>1401.0</td>\n",
       "      <td>1.0</td>\n",
       "      <td>11.855094</td>\n",
       "      <td>0.292334</td>\n",
       "    </tr>\n",
       "  </tbody>\n",
       "</table>\n",
       "</div>"
      ],
      "text/plain": [
       "   item_id  item_category_id  ...  category_average_sales  item_shop_rate\n",
       "0       19                40  ...               11.855094        0.085684\n",
       "1       34                40  ...               11.855094        0.580748\n",
       "2       35                40  ...               11.855094        3.804377\n",
       "3       72                40  ...               11.855094        0.292334\n",
       "4       72                40  ...               11.855094        0.292334\n",
       "\n",
       "[5 rows x 17 columns]"
      ]
     },
     "execution_count": 118,
     "metadata": {
      "tags": []
     },
     "output_type": "execute_result"
    }
   ],
   "source": [
    "# creating a rate item mean sales / shop mean sales\n",
    "\n",
    "data_train['item_shop_rate'] = data_train.apply(lambda x: item_shop_reason(x['month_average_sales'], x['shop_average_sales']), axis=1)\n",
    "data_train.head()"
   ]
  },
  {
   "cell_type": "code",
   "execution_count": 0,
   "metadata": {
    "colab": {},
    "colab_type": "code",
    "id": "RmdLNrbsGcXD"
   },
   "outputs": [],
   "source": [
    "def item_category_reason (item, category):\n",
    "\n",
    "  reason = item/category\n",
    "\n",
    "  return reason"
   ]
  },
  {
   "cell_type": "code",
   "execution_count": 121,
   "metadata": {
    "colab": {
     "base_uri": "https://localhost:8080/",
     "height": 215
    },
    "colab_type": "code",
    "id": "4n-xKYDfGoaf",
    "outputId": "55b9daae-1281-46a6-cf02-9884b7ed78f9"
   },
   "outputs": [
    {
     "data": {
      "text/html": [
       "<div>\n",
       "<style scoped>\n",
       "    .dataframe tbody tr th:only-of-type {\n",
       "        vertical-align: middle;\n",
       "    }\n",
       "\n",
       "    .dataframe tbody tr th {\n",
       "        vertical-align: top;\n",
       "    }\n",
       "\n",
       "    .dataframe thead th {\n",
       "        text-align: right;\n",
       "    }\n",
       "</style>\n",
       "<table border=\"1\" class=\"dataframe\">\n",
       "  <thead>\n",
       "    <tr style=\"text-align: right;\">\n",
       "      <th></th>\n",
       "      <th>item_id</th>\n",
       "      <th>item_category_id</th>\n",
       "      <th>date_block_num</th>\n",
       "      <th>item_price</th>\n",
       "      <th>shop_id</th>\n",
       "      <th>monthly_label</th>\n",
       "      <th>Last_Month_Sales</th>\n",
       "      <th>month_max_sales</th>\n",
       "      <th>month_min_sales</th>\n",
       "      <th>month_average_sales</th>\n",
       "      <th>shop_max_sales</th>\n",
       "      <th>shop_min_sales</th>\n",
       "      <th>shop_average_sales</th>\n",
       "      <th>category_max_sales</th>\n",
       "      <th>category_min_sales</th>\n",
       "      <th>category_average_sales</th>\n",
       "      <th>item_shop_rate</th>\n",
       "      <th>item_category_rate</th>\n",
       "    </tr>\n",
       "  </thead>\n",
       "  <tbody>\n",
       "    <tr>\n",
       "      <th>0</th>\n",
       "      <td>19</td>\n",
       "      <td>40</td>\n",
       "      <td>0</td>\n",
       "      <td>28.0</td>\n",
       "      <td>25</td>\n",
       "      <td>1.0</td>\n",
       "      <td>0.0</td>\n",
       "      <td>1.0</td>\n",
       "      <td>1.0</td>\n",
       "      <td>1.000000</td>\n",
       "      <td>12557.0</td>\n",
       "      <td>1.0</td>\n",
       "      <td>11.670768</td>\n",
       "      <td>1401.0</td>\n",
       "      <td>1.0</td>\n",
       "      <td>11.855094</td>\n",
       "      <td>0.085684</td>\n",
       "      <td>0.084352</td>\n",
       "    </tr>\n",
       "    <tr>\n",
       "      <th>1</th>\n",
       "      <td>34</td>\n",
       "      <td>40</td>\n",
       "      <td>3</td>\n",
       "      <td>149.0</td>\n",
       "      <td>25</td>\n",
       "      <td>12.0</td>\n",
       "      <td>8.0</td>\n",
       "      <td>15.0</td>\n",
       "      <td>1.0</td>\n",
       "      <td>6.777778</td>\n",
       "      <td>12557.0</td>\n",
       "      <td>1.0</td>\n",
       "      <td>11.670768</td>\n",
       "      <td>1401.0</td>\n",
       "      <td>1.0</td>\n",
       "      <td>11.855094</td>\n",
       "      <td>0.580748</td>\n",
       "      <td>0.571719</td>\n",
       "    </tr>\n",
       "    <tr>\n",
       "      <th>2</th>\n",
       "      <td>35</td>\n",
       "      <td>40</td>\n",
       "      <td>0</td>\n",
       "      <td>399.0</td>\n",
       "      <td>25</td>\n",
       "      <td>78.0</td>\n",
       "      <td>0.0</td>\n",
       "      <td>119.0</td>\n",
       "      <td>1.0</td>\n",
       "      <td>44.400000</td>\n",
       "      <td>12557.0</td>\n",
       "      <td>1.0</td>\n",
       "      <td>11.670768</td>\n",
       "      <td>1401.0</td>\n",
       "      <td>1.0</td>\n",
       "      <td>11.855094</td>\n",
       "      <td>3.804377</td>\n",
       "      <td>3.745226</td>\n",
       "    </tr>\n",
       "    <tr>\n",
       "      <th>3</th>\n",
       "      <td>72</td>\n",
       "      <td>40</td>\n",
       "      <td>0</td>\n",
       "      <td>119.0</td>\n",
       "      <td>25</td>\n",
       "      <td>4.0</td>\n",
       "      <td>0.0</td>\n",
       "      <td>10.0</td>\n",
       "      <td>1.0</td>\n",
       "      <td>3.411765</td>\n",
       "      <td>12557.0</td>\n",
       "      <td>1.0</td>\n",
       "      <td>11.670768</td>\n",
       "      <td>1401.0</td>\n",
       "      <td>1.0</td>\n",
       "      <td>11.855094</td>\n",
       "      <td>0.292334</td>\n",
       "      <td>0.287789</td>\n",
       "    </tr>\n",
       "    <tr>\n",
       "      <th>4</th>\n",
       "      <td>72</td>\n",
       "      <td>40</td>\n",
       "      <td>3</td>\n",
       "      <td>119.0</td>\n",
       "      <td>25</td>\n",
       "      <td>3.0</td>\n",
       "      <td>7.0</td>\n",
       "      <td>10.0</td>\n",
       "      <td>1.0</td>\n",
       "      <td>3.411765</td>\n",
       "      <td>12557.0</td>\n",
       "      <td>1.0</td>\n",
       "      <td>11.670768</td>\n",
       "      <td>1401.0</td>\n",
       "      <td>1.0</td>\n",
       "      <td>11.855094</td>\n",
       "      <td>0.292334</td>\n",
       "      <td>0.287789</td>\n",
       "    </tr>\n",
       "  </tbody>\n",
       "</table>\n",
       "</div>"
      ],
      "text/plain": [
       "   item_id  item_category_id  ...  item_shop_rate  item_category_rate\n",
       "0       19                40  ...        0.085684            0.084352\n",
       "1       34                40  ...        0.580748            0.571719\n",
       "2       35                40  ...        3.804377            3.745226\n",
       "3       72                40  ...        0.292334            0.287789\n",
       "4       72                40  ...        0.292334            0.287789\n",
       "\n",
       "[5 rows x 18 columns]"
      ]
     },
     "execution_count": 121,
     "metadata": {
      "tags": []
     },
     "output_type": "execute_result"
    }
   ],
   "source": [
    "# creating a rate item mean sales / category mean sales\n",
    "\n",
    "data_train['item_category_rate'] = data_train.apply(lambda x: item_category_reason(x['month_average_sales'], x['category_average_sales']), axis=1)\n",
    "data_train.head()"
   ]
  },
  {
   "cell_type": "code",
   "execution_count": 0,
   "metadata": {
    "colab": {},
    "colab_type": "code",
    "id": "v8JCrieq-Tsk"
   },
   "outputs": [],
   "source": [
    "def year(block_num):\n",
    "\n",
    "    if 0 <= block_num <= 11:\n",
    "\n",
    "        return '2013'\n",
    "\n",
    "    if 12 <= block_num <= 23:\n",
    "\n",
    "        return '2014'\n",
    "\n",
    "    if 24 <= block_num <=33:\n",
    "\n",
    "        return '2015'"
   ]
  },
  {
   "cell_type": "code",
   "execution_count": 123,
   "metadata": {
    "colab": {
     "base_uri": "https://localhost:8080/",
     "height": 215
    },
    "colab_type": "code",
    "id": "4-GLIyeP-Tsr",
    "outputId": "98442d37-acc1-40b6-87a8-028bc3f92e90",
    "scrolled": true
   },
   "outputs": [
    {
     "data": {
      "text/html": [
       "<div>\n",
       "<style scoped>\n",
       "    .dataframe tbody tr th:only-of-type {\n",
       "        vertical-align: middle;\n",
       "    }\n",
       "\n",
       "    .dataframe tbody tr th {\n",
       "        vertical-align: top;\n",
       "    }\n",
       "\n",
       "    .dataframe thead th {\n",
       "        text-align: right;\n",
       "    }\n",
       "</style>\n",
       "<table border=\"1\" class=\"dataframe\">\n",
       "  <thead>\n",
       "    <tr style=\"text-align: right;\">\n",
       "      <th></th>\n",
       "      <th>item_id</th>\n",
       "      <th>item_category_id</th>\n",
       "      <th>date_block_num</th>\n",
       "      <th>item_price</th>\n",
       "      <th>shop_id</th>\n",
       "      <th>monthly_label</th>\n",
       "      <th>Last_Month_Sales</th>\n",
       "      <th>month_max_sales</th>\n",
       "      <th>month_min_sales</th>\n",
       "      <th>month_average_sales</th>\n",
       "      <th>shop_max_sales</th>\n",
       "      <th>shop_min_sales</th>\n",
       "      <th>shop_average_sales</th>\n",
       "      <th>category_max_sales</th>\n",
       "      <th>category_min_sales</th>\n",
       "      <th>category_average_sales</th>\n",
       "      <th>item_shop_rate</th>\n",
       "      <th>item_category_rate</th>\n",
       "      <th>year</th>\n",
       "    </tr>\n",
       "  </thead>\n",
       "  <tbody>\n",
       "    <tr>\n",
       "      <th>0</th>\n",
       "      <td>19</td>\n",
       "      <td>40</td>\n",
       "      <td>0</td>\n",
       "      <td>28.0</td>\n",
       "      <td>25</td>\n",
       "      <td>1.0</td>\n",
       "      <td>0.0</td>\n",
       "      <td>1.0</td>\n",
       "      <td>1.0</td>\n",
       "      <td>1.000000</td>\n",
       "      <td>12557.0</td>\n",
       "      <td>1.0</td>\n",
       "      <td>11.670768</td>\n",
       "      <td>1401.0</td>\n",
       "      <td>1.0</td>\n",
       "      <td>11.855094</td>\n",
       "      <td>0.085684</td>\n",
       "      <td>0.084352</td>\n",
       "      <td>2013</td>\n",
       "    </tr>\n",
       "    <tr>\n",
       "      <th>1</th>\n",
       "      <td>34</td>\n",
       "      <td>40</td>\n",
       "      <td>3</td>\n",
       "      <td>149.0</td>\n",
       "      <td>25</td>\n",
       "      <td>12.0</td>\n",
       "      <td>8.0</td>\n",
       "      <td>15.0</td>\n",
       "      <td>1.0</td>\n",
       "      <td>6.777778</td>\n",
       "      <td>12557.0</td>\n",
       "      <td>1.0</td>\n",
       "      <td>11.670768</td>\n",
       "      <td>1401.0</td>\n",
       "      <td>1.0</td>\n",
       "      <td>11.855094</td>\n",
       "      <td>0.580748</td>\n",
       "      <td>0.571719</td>\n",
       "      <td>2013</td>\n",
       "    </tr>\n",
       "    <tr>\n",
       "      <th>2</th>\n",
       "      <td>35</td>\n",
       "      <td>40</td>\n",
       "      <td>0</td>\n",
       "      <td>399.0</td>\n",
       "      <td>25</td>\n",
       "      <td>78.0</td>\n",
       "      <td>0.0</td>\n",
       "      <td>119.0</td>\n",
       "      <td>1.0</td>\n",
       "      <td>44.400000</td>\n",
       "      <td>12557.0</td>\n",
       "      <td>1.0</td>\n",
       "      <td>11.670768</td>\n",
       "      <td>1401.0</td>\n",
       "      <td>1.0</td>\n",
       "      <td>11.855094</td>\n",
       "      <td>3.804377</td>\n",
       "      <td>3.745226</td>\n",
       "      <td>2013</td>\n",
       "    </tr>\n",
       "    <tr>\n",
       "      <th>3</th>\n",
       "      <td>72</td>\n",
       "      <td>40</td>\n",
       "      <td>0</td>\n",
       "      <td>119.0</td>\n",
       "      <td>25</td>\n",
       "      <td>4.0</td>\n",
       "      <td>0.0</td>\n",
       "      <td>10.0</td>\n",
       "      <td>1.0</td>\n",
       "      <td>3.411765</td>\n",
       "      <td>12557.0</td>\n",
       "      <td>1.0</td>\n",
       "      <td>11.670768</td>\n",
       "      <td>1401.0</td>\n",
       "      <td>1.0</td>\n",
       "      <td>11.855094</td>\n",
       "      <td>0.292334</td>\n",
       "      <td>0.287789</td>\n",
       "      <td>2013</td>\n",
       "    </tr>\n",
       "    <tr>\n",
       "      <th>4</th>\n",
       "      <td>72</td>\n",
       "      <td>40</td>\n",
       "      <td>3</td>\n",
       "      <td>119.0</td>\n",
       "      <td>25</td>\n",
       "      <td>3.0</td>\n",
       "      <td>7.0</td>\n",
       "      <td>10.0</td>\n",
       "      <td>1.0</td>\n",
       "      <td>3.411765</td>\n",
       "      <td>12557.0</td>\n",
       "      <td>1.0</td>\n",
       "      <td>11.670768</td>\n",
       "      <td>1401.0</td>\n",
       "      <td>1.0</td>\n",
       "      <td>11.855094</td>\n",
       "      <td>0.292334</td>\n",
       "      <td>0.287789</td>\n",
       "      <td>2013</td>\n",
       "    </tr>\n",
       "  </tbody>\n",
       "</table>\n",
       "</div>"
      ],
      "text/plain": [
       "   item_id  item_category_id  ...  item_category_rate  year\n",
       "0       19                40  ...            0.084352  2013\n",
       "1       34                40  ...            0.571719  2013\n",
       "2       35                40  ...            3.745226  2013\n",
       "3       72                40  ...            0.287789  2013\n",
       "4       72                40  ...            0.287789  2013\n",
       "\n",
       "[5 rows x 19 columns]"
      ]
     },
     "execution_count": 123,
     "metadata": {
      "tags": []
     },
     "output_type": "execute_result"
    }
   ],
   "source": [
    "data_train['year'] = data_train['date_block_num'].apply(year)\n",
    "data_train.head()"
   ]
  },
  {
   "cell_type": "code",
   "execution_count": 0,
   "metadata": {
    "colab": {},
    "colab_type": "code",
    "id": "StSeEQxd-Tsz"
   },
   "outputs": [],
   "source": [
    "def month(block_num):\n",
    "\n",
    "    if block_num == 0 or block_num == 12 or block_num == 24:\n",
    "\n",
    "        return 'JAN'\n",
    "\n",
    "    if block_num == 1 or block_num == 13 or block_num == 25:\n",
    "\n",
    "        return 'FEV'\n",
    "\n",
    "    if block_num == 2 or block_num == 14 or block_num == 26:\n",
    "\n",
    "        return 'MAR'\n",
    "\n",
    "    if block_num == 3 or block_num == 15 or block_num == 27:\n",
    "\n",
    "        return 'ABR'\n",
    "\n",
    "    if block_num == 4 or block_num == 16 or block_num == 28:\n",
    "\n",
    "        return 'MAI'\n",
    "\n",
    "    if block_num == 5 or block_num == 17 or block_num == 29:\n",
    "\n",
    "        return 'JUN'\n",
    "\n",
    "    if block_num == 6 or block_num == 18 or block_num == 30:\n",
    "\n",
    "        return 'JUL'\n",
    "\n",
    "    if block_num == 7 or block_num == 19 or block_num == 31:\n",
    "\n",
    "        return 'AGO'\n",
    "\n",
    "    if block_num == 8 or block_num == 20 or block_num == 32:\n",
    "\n",
    "        return 'SET'\n",
    "\n",
    "    if block_num == 9 or block_num == 21 or block_num == 33:\n",
    "\n",
    "        return 'OUT'\n",
    "\n",
    "    if block_num == 10 or block_num == 22: \n",
    "\n",
    "        return 'NOV'\n",
    "\n",
    "    if block_num == 11 or block_num == 23:\n",
    "\n",
    "        return 'DEZ'"
   ]
  },
  {
   "cell_type": "code",
   "execution_count": 125,
   "metadata": {
    "colab": {
     "base_uri": "https://localhost:8080/",
     "height": 215
    },
    "colab_type": "code",
    "id": "VqfWm4Jw-Ts6",
    "outputId": "9f1b6c4e-3622-4137-b671-f5ef4799526f",
    "scrolled": true
   },
   "outputs": [
    {
     "data": {
      "text/html": [
       "<div>\n",
       "<style scoped>\n",
       "    .dataframe tbody tr th:only-of-type {\n",
       "        vertical-align: middle;\n",
       "    }\n",
       "\n",
       "    .dataframe tbody tr th {\n",
       "        vertical-align: top;\n",
       "    }\n",
       "\n",
       "    .dataframe thead th {\n",
       "        text-align: right;\n",
       "    }\n",
       "</style>\n",
       "<table border=\"1\" class=\"dataframe\">\n",
       "  <thead>\n",
       "    <tr style=\"text-align: right;\">\n",
       "      <th></th>\n",
       "      <th>item_id</th>\n",
       "      <th>item_category_id</th>\n",
       "      <th>date_block_num</th>\n",
       "      <th>item_price</th>\n",
       "      <th>shop_id</th>\n",
       "      <th>monthly_label</th>\n",
       "      <th>Last_Month_Sales</th>\n",
       "      <th>month_max_sales</th>\n",
       "      <th>month_min_sales</th>\n",
       "      <th>month_average_sales</th>\n",
       "      <th>shop_max_sales</th>\n",
       "      <th>shop_min_sales</th>\n",
       "      <th>shop_average_sales</th>\n",
       "      <th>category_max_sales</th>\n",
       "      <th>category_min_sales</th>\n",
       "      <th>category_average_sales</th>\n",
       "      <th>item_shop_rate</th>\n",
       "      <th>item_category_rate</th>\n",
       "      <th>year</th>\n",
       "      <th>month</th>\n",
       "    </tr>\n",
       "  </thead>\n",
       "  <tbody>\n",
       "    <tr>\n",
       "      <th>0</th>\n",
       "      <td>19</td>\n",
       "      <td>40</td>\n",
       "      <td>0</td>\n",
       "      <td>28.0</td>\n",
       "      <td>25</td>\n",
       "      <td>1.0</td>\n",
       "      <td>0.0</td>\n",
       "      <td>1.0</td>\n",
       "      <td>1.0</td>\n",
       "      <td>1.000000</td>\n",
       "      <td>12557.0</td>\n",
       "      <td>1.0</td>\n",
       "      <td>11.670768</td>\n",
       "      <td>1401.0</td>\n",
       "      <td>1.0</td>\n",
       "      <td>11.855094</td>\n",
       "      <td>0.085684</td>\n",
       "      <td>0.084352</td>\n",
       "      <td>2013</td>\n",
       "      <td>JAN</td>\n",
       "    </tr>\n",
       "    <tr>\n",
       "      <th>1</th>\n",
       "      <td>34</td>\n",
       "      <td>40</td>\n",
       "      <td>3</td>\n",
       "      <td>149.0</td>\n",
       "      <td>25</td>\n",
       "      <td>12.0</td>\n",
       "      <td>8.0</td>\n",
       "      <td>15.0</td>\n",
       "      <td>1.0</td>\n",
       "      <td>6.777778</td>\n",
       "      <td>12557.0</td>\n",
       "      <td>1.0</td>\n",
       "      <td>11.670768</td>\n",
       "      <td>1401.0</td>\n",
       "      <td>1.0</td>\n",
       "      <td>11.855094</td>\n",
       "      <td>0.580748</td>\n",
       "      <td>0.571719</td>\n",
       "      <td>2013</td>\n",
       "      <td>ABR</td>\n",
       "    </tr>\n",
       "    <tr>\n",
       "      <th>2</th>\n",
       "      <td>35</td>\n",
       "      <td>40</td>\n",
       "      <td>0</td>\n",
       "      <td>399.0</td>\n",
       "      <td>25</td>\n",
       "      <td>78.0</td>\n",
       "      <td>0.0</td>\n",
       "      <td>119.0</td>\n",
       "      <td>1.0</td>\n",
       "      <td>44.400000</td>\n",
       "      <td>12557.0</td>\n",
       "      <td>1.0</td>\n",
       "      <td>11.670768</td>\n",
       "      <td>1401.0</td>\n",
       "      <td>1.0</td>\n",
       "      <td>11.855094</td>\n",
       "      <td>3.804377</td>\n",
       "      <td>3.745226</td>\n",
       "      <td>2013</td>\n",
       "      <td>JAN</td>\n",
       "    </tr>\n",
       "    <tr>\n",
       "      <th>3</th>\n",
       "      <td>72</td>\n",
       "      <td>40</td>\n",
       "      <td>0</td>\n",
       "      <td>119.0</td>\n",
       "      <td>25</td>\n",
       "      <td>4.0</td>\n",
       "      <td>0.0</td>\n",
       "      <td>10.0</td>\n",
       "      <td>1.0</td>\n",
       "      <td>3.411765</td>\n",
       "      <td>12557.0</td>\n",
       "      <td>1.0</td>\n",
       "      <td>11.670768</td>\n",
       "      <td>1401.0</td>\n",
       "      <td>1.0</td>\n",
       "      <td>11.855094</td>\n",
       "      <td>0.292334</td>\n",
       "      <td>0.287789</td>\n",
       "      <td>2013</td>\n",
       "      <td>JAN</td>\n",
       "    </tr>\n",
       "    <tr>\n",
       "      <th>4</th>\n",
       "      <td>72</td>\n",
       "      <td>40</td>\n",
       "      <td>3</td>\n",
       "      <td>119.0</td>\n",
       "      <td>25</td>\n",
       "      <td>3.0</td>\n",
       "      <td>7.0</td>\n",
       "      <td>10.0</td>\n",
       "      <td>1.0</td>\n",
       "      <td>3.411765</td>\n",
       "      <td>12557.0</td>\n",
       "      <td>1.0</td>\n",
       "      <td>11.670768</td>\n",
       "      <td>1401.0</td>\n",
       "      <td>1.0</td>\n",
       "      <td>11.855094</td>\n",
       "      <td>0.292334</td>\n",
       "      <td>0.287789</td>\n",
       "      <td>2013</td>\n",
       "      <td>ABR</td>\n",
       "    </tr>\n",
       "  </tbody>\n",
       "</table>\n",
       "</div>"
      ],
      "text/plain": [
       "   item_id  item_category_id  date_block_num  ...  item_category_rate  year  month\n",
       "0       19                40               0  ...            0.084352  2013    JAN\n",
       "1       34                40               3  ...            0.571719  2013    ABR\n",
       "2       35                40               0  ...            3.745226  2013    JAN\n",
       "3       72                40               0  ...            0.287789  2013    JAN\n",
       "4       72                40               3  ...            0.287789  2013    ABR\n",
       "\n",
       "[5 rows x 20 columns]"
      ]
     },
     "execution_count": 125,
     "metadata": {
      "tags": []
     },
     "output_type": "execute_result"
    }
   ],
   "source": [
    "data_train['month'] = data_train['date_block_num'].apply(month)\n",
    "data_train.head()"
   ]
  },
  {
   "cell_type": "code",
   "execution_count": 0,
   "metadata": {
    "colab": {},
    "colab_type": "code",
    "id": "7kknkKeTHQBG"
   },
   "outputs": [],
   "source": [
    "# function to create an indicator if a month is end of year\n",
    "\n",
    "def end_year(month):\n",
    "\n",
    "  if month == 'DEZ':\n",
    "\n",
    "    indicator = 1\n",
    "\n",
    "  else:\n",
    "\n",
    "    indicator = 0\n",
    "\n",
    "  return indicator "
   ]
  },
  {
   "cell_type": "code",
   "execution_count": 133,
   "metadata": {
    "colab": {
     "base_uri": "https://localhost:8080/",
     "height": 215
    },
    "colab_type": "code",
    "id": "0vL6jBh0HwhM",
    "outputId": "3aa8322b-85ab-4245-8b43-482d2da7d9a4"
   },
   "outputs": [
    {
     "data": {
      "text/html": [
       "<div>\n",
       "<style scoped>\n",
       "    .dataframe tbody tr th:only-of-type {\n",
       "        vertical-align: middle;\n",
       "    }\n",
       "\n",
       "    .dataframe tbody tr th {\n",
       "        vertical-align: top;\n",
       "    }\n",
       "\n",
       "    .dataframe thead th {\n",
       "        text-align: right;\n",
       "    }\n",
       "</style>\n",
       "<table border=\"1\" class=\"dataframe\">\n",
       "  <thead>\n",
       "    <tr style=\"text-align: right;\">\n",
       "      <th></th>\n",
       "      <th>item_id</th>\n",
       "      <th>item_category_id</th>\n",
       "      <th>date_block_num</th>\n",
       "      <th>item_price</th>\n",
       "      <th>shop_id</th>\n",
       "      <th>monthly_label</th>\n",
       "      <th>Last_Month_Sales</th>\n",
       "      <th>month_max_sales</th>\n",
       "      <th>month_min_sales</th>\n",
       "      <th>month_average_sales</th>\n",
       "      <th>shop_max_sales</th>\n",
       "      <th>shop_min_sales</th>\n",
       "      <th>shop_average_sales</th>\n",
       "      <th>category_max_sales</th>\n",
       "      <th>category_min_sales</th>\n",
       "      <th>category_average_sales</th>\n",
       "      <th>item_shop_rate</th>\n",
       "      <th>item_category_rate</th>\n",
       "      <th>year</th>\n",
       "      <th>month</th>\n",
       "      <th>end_of_year</th>\n",
       "      <th>begin_year</th>\n",
       "    </tr>\n",
       "  </thead>\n",
       "  <tbody>\n",
       "    <tr>\n",
       "      <th>0</th>\n",
       "      <td>19</td>\n",
       "      <td>40</td>\n",
       "      <td>0</td>\n",
       "      <td>28.0</td>\n",
       "      <td>25</td>\n",
       "      <td>1.0</td>\n",
       "      <td>0.0</td>\n",
       "      <td>1.0</td>\n",
       "      <td>1.0</td>\n",
       "      <td>1.000000</td>\n",
       "      <td>12557.0</td>\n",
       "      <td>1.0</td>\n",
       "      <td>11.670768</td>\n",
       "      <td>1401.0</td>\n",
       "      <td>1.0</td>\n",
       "      <td>11.855094</td>\n",
       "      <td>0.085684</td>\n",
       "      <td>0.084352</td>\n",
       "      <td>2013</td>\n",
       "      <td>JAN</td>\n",
       "      <td>0</td>\n",
       "      <td>0</td>\n",
       "    </tr>\n",
       "    <tr>\n",
       "      <th>1</th>\n",
       "      <td>34</td>\n",
       "      <td>40</td>\n",
       "      <td>3</td>\n",
       "      <td>149.0</td>\n",
       "      <td>25</td>\n",
       "      <td>12.0</td>\n",
       "      <td>8.0</td>\n",
       "      <td>15.0</td>\n",
       "      <td>1.0</td>\n",
       "      <td>6.777778</td>\n",
       "      <td>12557.0</td>\n",
       "      <td>1.0</td>\n",
       "      <td>11.670768</td>\n",
       "      <td>1401.0</td>\n",
       "      <td>1.0</td>\n",
       "      <td>11.855094</td>\n",
       "      <td>0.580748</td>\n",
       "      <td>0.571719</td>\n",
       "      <td>2013</td>\n",
       "      <td>ABR</td>\n",
       "      <td>0</td>\n",
       "      <td>0</td>\n",
       "    </tr>\n",
       "    <tr>\n",
       "      <th>2</th>\n",
       "      <td>35</td>\n",
       "      <td>40</td>\n",
       "      <td>0</td>\n",
       "      <td>399.0</td>\n",
       "      <td>25</td>\n",
       "      <td>78.0</td>\n",
       "      <td>0.0</td>\n",
       "      <td>119.0</td>\n",
       "      <td>1.0</td>\n",
       "      <td>44.400000</td>\n",
       "      <td>12557.0</td>\n",
       "      <td>1.0</td>\n",
       "      <td>11.670768</td>\n",
       "      <td>1401.0</td>\n",
       "      <td>1.0</td>\n",
       "      <td>11.855094</td>\n",
       "      <td>3.804377</td>\n",
       "      <td>3.745226</td>\n",
       "      <td>2013</td>\n",
       "      <td>JAN</td>\n",
       "      <td>0</td>\n",
       "      <td>0</td>\n",
       "    </tr>\n",
       "    <tr>\n",
       "      <th>3</th>\n",
       "      <td>72</td>\n",
       "      <td>40</td>\n",
       "      <td>0</td>\n",
       "      <td>119.0</td>\n",
       "      <td>25</td>\n",
       "      <td>4.0</td>\n",
       "      <td>0.0</td>\n",
       "      <td>10.0</td>\n",
       "      <td>1.0</td>\n",
       "      <td>3.411765</td>\n",
       "      <td>12557.0</td>\n",
       "      <td>1.0</td>\n",
       "      <td>11.670768</td>\n",
       "      <td>1401.0</td>\n",
       "      <td>1.0</td>\n",
       "      <td>11.855094</td>\n",
       "      <td>0.292334</td>\n",
       "      <td>0.287789</td>\n",
       "      <td>2013</td>\n",
       "      <td>JAN</td>\n",
       "      <td>0</td>\n",
       "      <td>0</td>\n",
       "    </tr>\n",
       "    <tr>\n",
       "      <th>4</th>\n",
       "      <td>72</td>\n",
       "      <td>40</td>\n",
       "      <td>3</td>\n",
       "      <td>119.0</td>\n",
       "      <td>25</td>\n",
       "      <td>3.0</td>\n",
       "      <td>7.0</td>\n",
       "      <td>10.0</td>\n",
       "      <td>1.0</td>\n",
       "      <td>3.411765</td>\n",
       "      <td>12557.0</td>\n",
       "      <td>1.0</td>\n",
       "      <td>11.670768</td>\n",
       "      <td>1401.0</td>\n",
       "      <td>1.0</td>\n",
       "      <td>11.855094</td>\n",
       "      <td>0.292334</td>\n",
       "      <td>0.287789</td>\n",
       "      <td>2013</td>\n",
       "      <td>ABR</td>\n",
       "      <td>0</td>\n",
       "      <td>0</td>\n",
       "    </tr>\n",
       "  </tbody>\n",
       "</table>\n",
       "</div>"
      ],
      "text/plain": [
       "   item_id  item_category_id  date_block_num  ...  month  end_of_year  begin_year\n",
       "0       19                40               0  ...    JAN            0           0\n",
       "1       34                40               3  ...    ABR            0           0\n",
       "2       35                40               0  ...    JAN            0           0\n",
       "3       72                40               0  ...    JAN            0           0\n",
       "4       72                40               3  ...    ABR            0           0\n",
       "\n",
       "[5 rows x 22 columns]"
      ]
     },
     "execution_count": 133,
     "metadata": {
      "tags": []
     },
     "output_type": "execute_result"
    }
   ],
   "source": [
    "data_train['end_of_year'] = data_train['month'].apply(end_year)\n",
    "data_train.head()"
   ]
  },
  {
   "cell_type": "code",
   "execution_count": 0,
   "metadata": {
    "colab": {},
    "colab_type": "code",
    "id": "-3Sjnz5dIzc5"
   },
   "outputs": [],
   "source": [
    "# function to create an indicator if a month is begin of year\n",
    "\n",
    "def begin_year(month):\n",
    "\n",
    "  if month == 'JAN':\n",
    "\n",
    "    indicator = 1\n",
    "\n",
    "  elif month == 'FEV':\n",
    "\n",
    "    indicator = 1\n",
    "\n",
    "  else:\n",
    "\n",
    "    indicator = 0\n",
    "\n",
    "  return indicator "
   ]
  },
  {
   "cell_type": "code",
   "execution_count": 136,
   "metadata": {
    "colab": {
     "base_uri": "https://localhost:8080/",
     "height": 215
    },
    "colab_type": "code",
    "id": "mLPkTtR4JKzQ",
    "outputId": "aa9275f5-04ee-4631-afd3-fea47154ac54"
   },
   "outputs": [
    {
     "data": {
      "text/html": [
       "<div>\n",
       "<style scoped>\n",
       "    .dataframe tbody tr th:only-of-type {\n",
       "        vertical-align: middle;\n",
       "    }\n",
       "\n",
       "    .dataframe tbody tr th {\n",
       "        vertical-align: top;\n",
       "    }\n",
       "\n",
       "    .dataframe thead th {\n",
       "        text-align: right;\n",
       "    }\n",
       "</style>\n",
       "<table border=\"1\" class=\"dataframe\">\n",
       "  <thead>\n",
       "    <tr style=\"text-align: right;\">\n",
       "      <th></th>\n",
       "      <th>item_id</th>\n",
       "      <th>item_category_id</th>\n",
       "      <th>date_block_num</th>\n",
       "      <th>item_price</th>\n",
       "      <th>shop_id</th>\n",
       "      <th>monthly_label</th>\n",
       "      <th>Last_Month_Sales</th>\n",
       "      <th>month_max_sales</th>\n",
       "      <th>month_min_sales</th>\n",
       "      <th>month_average_sales</th>\n",
       "      <th>shop_max_sales</th>\n",
       "      <th>shop_min_sales</th>\n",
       "      <th>shop_average_sales</th>\n",
       "      <th>category_max_sales</th>\n",
       "      <th>category_min_sales</th>\n",
       "      <th>category_average_sales</th>\n",
       "      <th>item_shop_rate</th>\n",
       "      <th>item_category_rate</th>\n",
       "      <th>year</th>\n",
       "      <th>month</th>\n",
       "      <th>end_of_year</th>\n",
       "      <th>begin_year</th>\n",
       "    </tr>\n",
       "  </thead>\n",
       "  <tbody>\n",
       "    <tr>\n",
       "      <th>0</th>\n",
       "      <td>19</td>\n",
       "      <td>40</td>\n",
       "      <td>0</td>\n",
       "      <td>28.0</td>\n",
       "      <td>25</td>\n",
       "      <td>1.0</td>\n",
       "      <td>0.0</td>\n",
       "      <td>1.0</td>\n",
       "      <td>1.0</td>\n",
       "      <td>1.000000</td>\n",
       "      <td>12557.0</td>\n",
       "      <td>1.0</td>\n",
       "      <td>11.670768</td>\n",
       "      <td>1401.0</td>\n",
       "      <td>1.0</td>\n",
       "      <td>11.855094</td>\n",
       "      <td>0.085684</td>\n",
       "      <td>0.084352</td>\n",
       "      <td>2013</td>\n",
       "      <td>JAN</td>\n",
       "      <td>0</td>\n",
       "      <td>1</td>\n",
       "    </tr>\n",
       "    <tr>\n",
       "      <th>1</th>\n",
       "      <td>34</td>\n",
       "      <td>40</td>\n",
       "      <td>3</td>\n",
       "      <td>149.0</td>\n",
       "      <td>25</td>\n",
       "      <td>12.0</td>\n",
       "      <td>8.0</td>\n",
       "      <td>15.0</td>\n",
       "      <td>1.0</td>\n",
       "      <td>6.777778</td>\n",
       "      <td>12557.0</td>\n",
       "      <td>1.0</td>\n",
       "      <td>11.670768</td>\n",
       "      <td>1401.0</td>\n",
       "      <td>1.0</td>\n",
       "      <td>11.855094</td>\n",
       "      <td>0.580748</td>\n",
       "      <td>0.571719</td>\n",
       "      <td>2013</td>\n",
       "      <td>ABR</td>\n",
       "      <td>0</td>\n",
       "      <td>0</td>\n",
       "    </tr>\n",
       "    <tr>\n",
       "      <th>2</th>\n",
       "      <td>35</td>\n",
       "      <td>40</td>\n",
       "      <td>0</td>\n",
       "      <td>399.0</td>\n",
       "      <td>25</td>\n",
       "      <td>78.0</td>\n",
       "      <td>0.0</td>\n",
       "      <td>119.0</td>\n",
       "      <td>1.0</td>\n",
       "      <td>44.400000</td>\n",
       "      <td>12557.0</td>\n",
       "      <td>1.0</td>\n",
       "      <td>11.670768</td>\n",
       "      <td>1401.0</td>\n",
       "      <td>1.0</td>\n",
       "      <td>11.855094</td>\n",
       "      <td>3.804377</td>\n",
       "      <td>3.745226</td>\n",
       "      <td>2013</td>\n",
       "      <td>JAN</td>\n",
       "      <td>0</td>\n",
       "      <td>1</td>\n",
       "    </tr>\n",
       "    <tr>\n",
       "      <th>3</th>\n",
       "      <td>72</td>\n",
       "      <td>40</td>\n",
       "      <td>0</td>\n",
       "      <td>119.0</td>\n",
       "      <td>25</td>\n",
       "      <td>4.0</td>\n",
       "      <td>0.0</td>\n",
       "      <td>10.0</td>\n",
       "      <td>1.0</td>\n",
       "      <td>3.411765</td>\n",
       "      <td>12557.0</td>\n",
       "      <td>1.0</td>\n",
       "      <td>11.670768</td>\n",
       "      <td>1401.0</td>\n",
       "      <td>1.0</td>\n",
       "      <td>11.855094</td>\n",
       "      <td>0.292334</td>\n",
       "      <td>0.287789</td>\n",
       "      <td>2013</td>\n",
       "      <td>JAN</td>\n",
       "      <td>0</td>\n",
       "      <td>1</td>\n",
       "    </tr>\n",
       "    <tr>\n",
       "      <th>4</th>\n",
       "      <td>72</td>\n",
       "      <td>40</td>\n",
       "      <td>3</td>\n",
       "      <td>119.0</td>\n",
       "      <td>25</td>\n",
       "      <td>3.0</td>\n",
       "      <td>7.0</td>\n",
       "      <td>10.0</td>\n",
       "      <td>1.0</td>\n",
       "      <td>3.411765</td>\n",
       "      <td>12557.0</td>\n",
       "      <td>1.0</td>\n",
       "      <td>11.670768</td>\n",
       "      <td>1401.0</td>\n",
       "      <td>1.0</td>\n",
       "      <td>11.855094</td>\n",
       "      <td>0.292334</td>\n",
       "      <td>0.287789</td>\n",
       "      <td>2013</td>\n",
       "      <td>ABR</td>\n",
       "      <td>0</td>\n",
       "      <td>0</td>\n",
       "    </tr>\n",
       "  </tbody>\n",
       "</table>\n",
       "</div>"
      ],
      "text/plain": [
       "   item_id  item_category_id  date_block_num  ...  month  end_of_year  begin_year\n",
       "0       19                40               0  ...    JAN            0           1\n",
       "1       34                40               3  ...    ABR            0           0\n",
       "2       35                40               0  ...    JAN            0           1\n",
       "3       72                40               0  ...    JAN            0           1\n",
       "4       72                40               3  ...    ABR            0           0\n",
       "\n",
       "[5 rows x 22 columns]"
      ]
     },
     "execution_count": 136,
     "metadata": {
      "tags": []
     },
     "output_type": "execute_result"
    }
   ],
   "source": [
    "data_train['begin_year'] = data_train['month'].apply(begin_year)\n",
    "data_train.head()"
   ]
  },
  {
   "cell_type": "code",
   "execution_count": 156,
   "metadata": {
    "colab": {
     "base_uri": "https://localhost:8080/",
     "height": 34
    },
    "colab_type": "code",
    "id": "ISRoyThpKnt2",
    "outputId": "8a2cb483-bb17-4344-8931-59a8d49f8605"
   },
   "outputs": [
    {
     "data": {
      "text/plain": [
       "(230798, 22)"
      ]
     },
     "execution_count": 156,
     "metadata": {
      "tags": []
     },
     "output_type": "execute_result"
    }
   ],
   "source": [
    "# removing some outliers\n",
    "\n",
    "data_train = data_train[data_train['monthly_label'] < 150]\n",
    "data_train.shape"
   ]
  },
  {
   "cell_type": "code",
   "execution_count": 158,
   "metadata": {
    "colab": {
     "base_uri": "https://localhost:8080/",
     "height": 134
    },
    "colab_type": "code",
    "id": "H_OGcVSmN8UN",
    "outputId": "d1551803-9cc9-4829-8233-ea20b3457904"
   },
   "outputs": [
    {
     "data": {
      "text/plain": [
       "Index(['item_id', 'item_category_id', 'date_block_num', 'item_price',\n",
       "       'shop_id', 'monthly_label', 'Last_Month_Sales', 'month_max_sales',\n",
       "       'month_min_sales', 'month_average_sales', 'shop_max_sales',\n",
       "       'shop_min_sales', 'shop_average_sales', 'category_max_sales',\n",
       "       'category_min_sales', 'category_average_sales', 'item_shop_rate',\n",
       "       'item_category_rate', 'year', 'month', 'end_of_year', 'begin_year'],\n",
       "      dtype='object')"
      ]
     },
     "execution_count": 158,
     "metadata": {
      "tags": []
     },
     "output_type": "execute_result"
    }
   ],
   "source": [
    "data_train.columns"
   ]
  },
  {
   "cell_type": "code",
   "execution_count": 161,
   "metadata": {
    "colab": {
     "base_uri": "https://localhost:8080/",
     "height": 215
    },
    "colab_type": "code",
    "id": "1ecoVtX5O2k-",
    "outputId": "0b6d69ba-72b9-4f9e-e543-cda8651d9c8d"
   },
   "outputs": [
    {
     "data": {
      "text/html": [
       "<div>\n",
       "<style scoped>\n",
       "    .dataframe tbody tr th:only-of-type {\n",
       "        vertical-align: middle;\n",
       "    }\n",
       "\n",
       "    .dataframe tbody tr th {\n",
       "        vertical-align: top;\n",
       "    }\n",
       "\n",
       "    .dataframe thead th {\n",
       "        text-align: right;\n",
       "    }\n",
       "</style>\n",
       "<table border=\"1\" class=\"dataframe\">\n",
       "  <thead>\n",
       "    <tr style=\"text-align: right;\">\n",
       "      <th></th>\n",
       "      <th>item_id</th>\n",
       "      <th>item_category_id</th>\n",
       "      <th>date_block_num</th>\n",
       "      <th>item_price</th>\n",
       "      <th>shop_id</th>\n",
       "      <th>monthly_label</th>\n",
       "      <th>Last_Month_Sales</th>\n",
       "      <th>month_max_sales</th>\n",
       "      <th>month_min_sales</th>\n",
       "      <th>month_average_sales</th>\n",
       "      <th>shop_max_sales</th>\n",
       "      <th>shop_min_sales</th>\n",
       "      <th>shop_average_sales</th>\n",
       "      <th>category_max_sales</th>\n",
       "      <th>category_min_sales</th>\n",
       "      <th>category_average_sales</th>\n",
       "      <th>item_shop_rate</th>\n",
       "      <th>item_category_rate</th>\n",
       "      <th>year</th>\n",
       "      <th>month</th>\n",
       "      <th>end_of_year</th>\n",
       "      <th>begin_year</th>\n",
       "    </tr>\n",
       "  </thead>\n",
       "  <tbody>\n",
       "    <tr>\n",
       "      <th>0</th>\n",
       "      <td>19</td>\n",
       "      <td>40</td>\n",
       "      <td>0</td>\n",
       "      <td>28.0</td>\n",
       "      <td>25</td>\n",
       "      <td>1.0</td>\n",
       "      <td>0.0</td>\n",
       "      <td>1.0</td>\n",
       "      <td>1.0</td>\n",
       "      <td>1.000000</td>\n",
       "      <td>12557.0</td>\n",
       "      <td>1.0</td>\n",
       "      <td>11.670768</td>\n",
       "      <td>1401.0</td>\n",
       "      <td>1.0</td>\n",
       "      <td>11.855094</td>\n",
       "      <td>0.085684</td>\n",
       "      <td>0.084352</td>\n",
       "      <td>2013</td>\n",
       "      <td>JAN</td>\n",
       "      <td>0</td>\n",
       "      <td>1</td>\n",
       "    </tr>\n",
       "    <tr>\n",
       "      <th>163368</th>\n",
       "      <td>27</td>\n",
       "      <td>19</td>\n",
       "      <td>0</td>\n",
       "      <td>2499.0</td>\n",
       "      <td>19</td>\n",
       "      <td>7.0</td>\n",
       "      <td>0.0</td>\n",
       "      <td>7.0</td>\n",
       "      <td>1.0</td>\n",
       "      <td>2.625000</td>\n",
       "      <td>3768.0</td>\n",
       "      <td>1.0</td>\n",
       "      <td>16.980093</td>\n",
       "      <td>6972.0</td>\n",
       "      <td>1.0</td>\n",
       "      <td>35.578400</td>\n",
       "      <td>0.154593</td>\n",
       "      <td>0.073781</td>\n",
       "      <td>2013</td>\n",
       "      <td>JAN</td>\n",
       "      <td>0</td>\n",
       "      <td>1</td>\n",
       "    </tr>\n",
       "    <tr>\n",
       "      <th>150269</th>\n",
       "      <td>28</td>\n",
       "      <td>30</td>\n",
       "      <td>0</td>\n",
       "      <td>549.0</td>\n",
       "      <td>15</td>\n",
       "      <td>8.0</td>\n",
       "      <td>0.0</td>\n",
       "      <td>13.0</td>\n",
       "      <td>1.0</td>\n",
       "      <td>6.615385</td>\n",
       "      <td>843.0</td>\n",
       "      <td>1.0</td>\n",
       "      <td>23.313817</td>\n",
       "      <td>7300.0</td>\n",
       "      <td>1.0</td>\n",
       "      <td>56.218160</td>\n",
       "      <td>0.283754</td>\n",
       "      <td>0.117673</td>\n",
       "      <td>2013</td>\n",
       "      <td>JAN</td>\n",
       "      <td>0</td>\n",
       "      <td>1</td>\n",
       "    </tr>\n",
       "    <tr>\n",
       "      <th>159643</th>\n",
       "      <td>29</td>\n",
       "      <td>23</td>\n",
       "      <td>0</td>\n",
       "      <td>2499.0</td>\n",
       "      <td>28</td>\n",
       "      <td>6.0</td>\n",
       "      <td>0.0</td>\n",
       "      <td>6.0</td>\n",
       "      <td>1.0</td>\n",
       "      <td>2.000000</td>\n",
       "      <td>6547.0</td>\n",
       "      <td>1.0</td>\n",
       "      <td>21.615015</td>\n",
       "      <td>3225.0</td>\n",
       "      <td>1.0</td>\n",
       "      <td>31.299817</td>\n",
       "      <td>0.092528</td>\n",
       "      <td>0.063898</td>\n",
       "      <td>2013</td>\n",
       "      <td>JAN</td>\n",
       "      <td>0</td>\n",
       "      <td>1</td>\n",
       "    </tr>\n",
       "    <tr>\n",
       "      <th>59716</th>\n",
       "      <td>33</td>\n",
       "      <td>37</td>\n",
       "      <td>0</td>\n",
       "      <td>499.0</td>\n",
       "      <td>24</td>\n",
       "      <td>61.0</td>\n",
       "      <td>0.0</td>\n",
       "      <td>61.0</td>\n",
       "      <td>11.0</td>\n",
       "      <td>24.823529</td>\n",
       "      <td>1226.0</td>\n",
       "      <td>1.0</td>\n",
       "      <td>17.800263</td>\n",
       "      <td>660.0</td>\n",
       "      <td>1.0</td>\n",
       "      <td>8.383264</td>\n",
       "      <td>1.394560</td>\n",
       "      <td>2.961082</td>\n",
       "      <td>2013</td>\n",
       "      <td>JAN</td>\n",
       "      <td>0</td>\n",
       "      <td>1</td>\n",
       "    </tr>\n",
       "  </tbody>\n",
       "</table>\n",
       "</div>"
      ],
      "text/plain": [
       "        item_id  item_category_id  ...  end_of_year  begin_year\n",
       "0            19                40  ...            0           1\n",
       "163368       27                19  ...            0           1\n",
       "150269       28                30  ...            0           1\n",
       "159643       29                23  ...            0           1\n",
       "59716        33                37  ...            0           1\n",
       "\n",
       "[5 rows x 22 columns]"
      ]
     },
     "execution_count": 161,
     "metadata": {
      "tags": []
     },
     "output_type": "execute_result"
    }
   ],
   "source": [
    "data_train = data_train.sort_values(by=['date_block_num', 'item_id'], ascending=True)\n",
    "data_train.head()"
   ]
  },
  {
   "cell_type": "code",
   "execution_count": 162,
   "metadata": {
    "colab": {
     "base_uri": "https://localhost:8080/",
     "height": 215
    },
    "colab_type": "code",
    "id": "-cJSYxYG-TtR",
    "outputId": "20b97a4f-1297-4355-ef74-b58c33ef37e6"
   },
   "outputs": [
    {
     "data": {
      "text/html": [
       "<div>\n",
       "<style scoped>\n",
       "    .dataframe tbody tr th:only-of-type {\n",
       "        vertical-align: middle;\n",
       "    }\n",
       "\n",
       "    .dataframe tbody tr th {\n",
       "        vertical-align: top;\n",
       "    }\n",
       "\n",
       "    .dataframe thead th {\n",
       "        text-align: right;\n",
       "    }\n",
       "</style>\n",
       "<table border=\"1\" class=\"dataframe\">\n",
       "  <thead>\n",
       "    <tr style=\"text-align: right;\">\n",
       "      <th></th>\n",
       "      <th>date_block_num</th>\n",
       "      <th>Last_Month_Sales</th>\n",
       "      <th>month_max_sales</th>\n",
       "      <th>month_min_sales</th>\n",
       "      <th>month_average_sales</th>\n",
       "      <th>shop_max_sales</th>\n",
       "      <th>shop_min_sales</th>\n",
       "      <th>shop_average_sales</th>\n",
       "      <th>category_max_sales</th>\n",
       "      <th>category_min_sales</th>\n",
       "      <th>category_average_sales</th>\n",
       "      <th>item_shop_rate</th>\n",
       "      <th>item_category_rate</th>\n",
       "    </tr>\n",
       "  </thead>\n",
       "  <tbody>\n",
       "    <tr>\n",
       "      <th>0</th>\n",
       "      <td>0</td>\n",
       "      <td>0.0</td>\n",
       "      <td>1.0</td>\n",
       "      <td>1.0</td>\n",
       "      <td>1.000000</td>\n",
       "      <td>12557.0</td>\n",
       "      <td>1.0</td>\n",
       "      <td>11.670768</td>\n",
       "      <td>1401.0</td>\n",
       "      <td>1.0</td>\n",
       "      <td>11.855094</td>\n",
       "      <td>0.085684</td>\n",
       "      <td>0.084352</td>\n",
       "    </tr>\n",
       "    <tr>\n",
       "      <th>163368</th>\n",
       "      <td>0</td>\n",
       "      <td>0.0</td>\n",
       "      <td>7.0</td>\n",
       "      <td>1.0</td>\n",
       "      <td>2.625000</td>\n",
       "      <td>3768.0</td>\n",
       "      <td>1.0</td>\n",
       "      <td>16.980093</td>\n",
       "      <td>6972.0</td>\n",
       "      <td>1.0</td>\n",
       "      <td>35.578400</td>\n",
       "      <td>0.154593</td>\n",
       "      <td>0.073781</td>\n",
       "    </tr>\n",
       "    <tr>\n",
       "      <th>150269</th>\n",
       "      <td>0</td>\n",
       "      <td>0.0</td>\n",
       "      <td>13.0</td>\n",
       "      <td>1.0</td>\n",
       "      <td>6.615385</td>\n",
       "      <td>843.0</td>\n",
       "      <td>1.0</td>\n",
       "      <td>23.313817</td>\n",
       "      <td>7300.0</td>\n",
       "      <td>1.0</td>\n",
       "      <td>56.218160</td>\n",
       "      <td>0.283754</td>\n",
       "      <td>0.117673</td>\n",
       "    </tr>\n",
       "    <tr>\n",
       "      <th>159643</th>\n",
       "      <td>0</td>\n",
       "      <td>0.0</td>\n",
       "      <td>6.0</td>\n",
       "      <td>1.0</td>\n",
       "      <td>2.000000</td>\n",
       "      <td>6547.0</td>\n",
       "      <td>1.0</td>\n",
       "      <td>21.615015</td>\n",
       "      <td>3225.0</td>\n",
       "      <td>1.0</td>\n",
       "      <td>31.299817</td>\n",
       "      <td>0.092528</td>\n",
       "      <td>0.063898</td>\n",
       "    </tr>\n",
       "    <tr>\n",
       "      <th>59716</th>\n",
       "      <td>0</td>\n",
       "      <td>0.0</td>\n",
       "      <td>61.0</td>\n",
       "      <td>11.0</td>\n",
       "      <td>24.823529</td>\n",
       "      <td>1226.0</td>\n",
       "      <td>1.0</td>\n",
       "      <td>17.800263</td>\n",
       "      <td>660.0</td>\n",
       "      <td>1.0</td>\n",
       "      <td>8.383264</td>\n",
       "      <td>1.394560</td>\n",
       "      <td>2.961082</td>\n",
       "    </tr>\n",
       "  </tbody>\n",
       "</table>\n",
       "</div>"
      ],
      "text/plain": [
       "        date_block_num  Last_Month_Sales  ...  item_shop_rate  item_category_rate\n",
       "0                    0               0.0  ...        0.085684            0.084352\n",
       "163368               0               0.0  ...        0.154593            0.073781\n",
       "150269               0               0.0  ...        0.283754            0.117673\n",
       "159643               0               0.0  ...        0.092528            0.063898\n",
       "59716                0               0.0  ...        1.394560            2.961082\n",
       "\n",
       "[5 rows x 13 columns]"
      ]
     },
     "execution_count": 162,
     "metadata": {
      "tags": []
     },
     "output_type": "execute_result"
    }
   ],
   "source": [
    "data_scaling = pd.DataFrame(data_train[['date_block_num', 'Last_Month_Sales', 'month_max_sales',\n",
    "       'month_min_sales', 'month_average_sales', 'shop_max_sales',\n",
    "       'shop_min_sales', 'shop_average_sales', 'category_max_sales',\n",
    "       'category_min_sales', 'category_average_sales', 'item_shop_rate',\n",
    "       'item_category_rate']])\n",
    "data_scaling.head()"
   ]
  },
  {
   "cell_type": "code",
   "execution_count": 0,
   "metadata": {
    "colab": {},
    "colab_type": "code",
    "id": "kjkpBy84-TtY"
   },
   "outputs": [],
   "source": [
    "# fazendo um scaling na coluna de preços dos itens\n",
    "\n",
    "from sklearn.preprocessing import MinMaxScaler\n",
    "\n",
    "scale = MinMaxScaler()\n",
    "matrix = scale.fit_transform(data_scaling)"
   ]
  },
  {
   "cell_type": "code",
   "execution_count": 0,
   "metadata": {
    "colab": {},
    "colab_type": "code",
    "id": "Yo4m7QXX-Ttm"
   },
   "outputs": [],
   "source": [
    "data_scaling[['date_block_num', 'Last_Month_Sales', 'month_max_sales',\n",
    "       'month_min_sales', 'month_average_sales', 'shop_max_sales',\n",
    "       'shop_min_sales', 'shop_average_sales', 'category_max_sales',\n",
    "       'category_min_sales', 'category_average_sales', 'item_shop_rate',\n",
    "       'item_category_rate']] = matrix"
   ]
  },
  {
   "cell_type": "code",
   "execution_count": 165,
   "metadata": {
    "colab": {
     "base_uri": "https://localhost:8080/",
     "height": 215
    },
    "colab_type": "code",
    "id": "jz7yn-Kh-Tt5",
    "outputId": "2f5d85f2-7a81-416d-bfa6-a3a556990441"
   },
   "outputs": [
    {
     "data": {
      "text/html": [
       "<div>\n",
       "<style scoped>\n",
       "    .dataframe tbody tr th:only-of-type {\n",
       "        vertical-align: middle;\n",
       "    }\n",
       "\n",
       "    .dataframe tbody tr th {\n",
       "        vertical-align: top;\n",
       "    }\n",
       "\n",
       "    .dataframe thead th {\n",
       "        text-align: right;\n",
       "    }\n",
       "</style>\n",
       "<table border=\"1\" class=\"dataframe\">\n",
       "  <thead>\n",
       "    <tr style=\"text-align: right;\">\n",
       "      <th></th>\n",
       "      <th>item_id</th>\n",
       "      <th>item_category_id</th>\n",
       "      <th>date_block_num</th>\n",
       "      <th>item_price</th>\n",
       "      <th>shop_id</th>\n",
       "      <th>monthly_label</th>\n",
       "      <th>Last_Month_Sales</th>\n",
       "      <th>month_max_sales</th>\n",
       "      <th>month_min_sales</th>\n",
       "      <th>month_average_sales</th>\n",
       "      <th>shop_max_sales</th>\n",
       "      <th>shop_min_sales</th>\n",
       "      <th>shop_average_sales</th>\n",
       "      <th>category_max_sales</th>\n",
       "      <th>category_min_sales</th>\n",
       "      <th>category_average_sales</th>\n",
       "      <th>item_shop_rate</th>\n",
       "      <th>item_category_rate</th>\n",
       "      <th>year</th>\n",
       "      <th>month</th>\n",
       "      <th>end_of_year</th>\n",
       "      <th>begin_year</th>\n",
       "    </tr>\n",
       "  </thead>\n",
       "  <tbody>\n",
       "    <tr>\n",
       "      <th>0</th>\n",
       "      <td>19</td>\n",
       "      <td>40</td>\n",
       "      <td>0.0</td>\n",
       "      <td>28.0</td>\n",
       "      <td>25</td>\n",
       "      <td>1.0</td>\n",
       "      <td>0.0</td>\n",
       "      <td>0.000000</td>\n",
       "      <td>0.000000</td>\n",
       "      <td>0.000000</td>\n",
       "      <td>1.000000</td>\n",
       "      <td>0.0</td>\n",
       "      <td>0.144800</td>\n",
       "      <td>0.111500</td>\n",
       "      <td>0.0</td>\n",
       "      <td>0.002483</td>\n",
       "      <td>0.000503</td>\n",
       "      <td>0.000566</td>\n",
       "      <td>2013</td>\n",
       "      <td>JAN</td>\n",
       "      <td>0</td>\n",
       "      <td>1</td>\n",
       "    </tr>\n",
       "    <tr>\n",
       "      <th>163368</th>\n",
       "      <td>27</td>\n",
       "      <td>19</td>\n",
       "      <td>0.0</td>\n",
       "      <td>2499.0</td>\n",
       "      <td>19</td>\n",
       "      <td>7.0</td>\n",
       "      <td>0.0</td>\n",
       "      <td>0.000861</td>\n",
       "      <td>0.000000</td>\n",
       "      <td>0.001775</td>\n",
       "      <td>0.299904</td>\n",
       "      <td>0.0</td>\n",
       "      <td>0.220389</td>\n",
       "      <td>0.555193</td>\n",
       "      <td>0.0</td>\n",
       "      <td>0.007909</td>\n",
       "      <td>0.001054</td>\n",
       "      <td>0.000495</td>\n",
       "      <td>2013</td>\n",
       "      <td>JAN</td>\n",
       "      <td>0</td>\n",
       "      <td>1</td>\n",
       "    </tr>\n",
       "    <tr>\n",
       "      <th>150269</th>\n",
       "      <td>28</td>\n",
       "      <td>30</td>\n",
       "      <td>0.0</td>\n",
       "      <td>549.0</td>\n",
       "      <td>15</td>\n",
       "      <td>8.0</td>\n",
       "      <td>0.0</td>\n",
       "      <td>0.001721</td>\n",
       "      <td>0.000000</td>\n",
       "      <td>0.006134</td>\n",
       "      <td>0.066911</td>\n",
       "      <td>0.0</td>\n",
       "      <td>0.310561</td>\n",
       "      <td>0.581316</td>\n",
       "      <td>0.0</td>\n",
       "      <td>0.012630</td>\n",
       "      <td>0.002085</td>\n",
       "      <td>0.000790</td>\n",
       "      <td>2013</td>\n",
       "      <td>JAN</td>\n",
       "      <td>0</td>\n",
       "      <td>1</td>\n",
       "    </tr>\n",
       "    <tr>\n",
       "      <th>159643</th>\n",
       "      <td>29</td>\n",
       "      <td>23</td>\n",
       "      <td>0.0</td>\n",
       "      <td>2499.0</td>\n",
       "      <td>28</td>\n",
       "      <td>6.0</td>\n",
       "      <td>0.0</td>\n",
       "      <td>0.000717</td>\n",
       "      <td>0.000000</td>\n",
       "      <td>0.001092</td>\n",
       "      <td>0.521268</td>\n",
       "      <td>0.0</td>\n",
       "      <td>0.286376</td>\n",
       "      <td>0.256770</td>\n",
       "      <td>0.0</td>\n",
       "      <td>0.006931</td>\n",
       "      <td>0.000558</td>\n",
       "      <td>0.000428</td>\n",
       "      <td>2013</td>\n",
       "      <td>JAN</td>\n",
       "      <td>0</td>\n",
       "      <td>1</td>\n",
       "    </tr>\n",
       "    <tr>\n",
       "      <th>59716</th>\n",
       "      <td>33</td>\n",
       "      <td>37</td>\n",
       "      <td>0.0</td>\n",
       "      <td>499.0</td>\n",
       "      <td>24</td>\n",
       "      <td>61.0</td>\n",
       "      <td>0.0</td>\n",
       "      <td>0.008607</td>\n",
       "      <td>0.067568</td>\n",
       "      <td>0.026025</td>\n",
       "      <td>0.097419</td>\n",
       "      <td>0.0</td>\n",
       "      <td>0.232065</td>\n",
       "      <td>0.052485</td>\n",
       "      <td>0.0</td>\n",
       "      <td>0.001689</td>\n",
       "      <td>0.010955</td>\n",
       "      <td>0.019921</td>\n",
       "      <td>2013</td>\n",
       "      <td>JAN</td>\n",
       "      <td>0</td>\n",
       "      <td>1</td>\n",
       "    </tr>\n",
       "  </tbody>\n",
       "</table>\n",
       "</div>"
      ],
      "text/plain": [
       "        item_id  item_category_id  ...  end_of_year  begin_year\n",
       "0            19                40  ...            0           1\n",
       "163368       27                19  ...            0           1\n",
       "150269       28                30  ...            0           1\n",
       "159643       29                23  ...            0           1\n",
       "59716        33                37  ...            0           1\n",
       "\n",
       "[5 rows x 22 columns]"
      ]
     },
     "execution_count": 165,
     "metadata": {
      "tags": []
     },
     "output_type": "execute_result"
    }
   ],
   "source": [
    "data_train[['date_block_num', 'Last_Month_Sales', 'month_max_sales',\n",
    "       'month_min_sales', 'month_average_sales', 'shop_max_sales',\n",
    "       'shop_min_sales', 'shop_average_sales', 'category_max_sales',\n",
    "       'category_min_sales', 'category_average_sales', 'item_shop_rate',\n",
    "       'item_category_rate']] = data_scaling[['date_block_num', 'Last_Month_Sales', 'month_max_sales',\n",
    "       'month_min_sales', 'month_average_sales', 'shop_max_sales',\n",
    "       'shop_min_sales', 'shop_average_sales', 'category_max_sales',\n",
    "       'category_min_sales', 'category_average_sales', 'item_shop_rate',\n",
    "       'item_category_rate']]\n",
    "data_train.head()"
   ]
  },
  {
   "cell_type": "markdown",
   "metadata": {
    "colab_type": "text",
    "id": "4-chQINq-TxR"
   },
   "source": [
    "# Regressão Linear com scikit-learn"
   ]
  },
  {
   "cell_type": "code",
   "execution_count": 0,
   "metadata": {
    "colab": {
     "base_uri": "https://localhost:8080/",
     "height": 195
    },
    "colab_type": "code",
    "id": "jQY8PuM_-TxT",
    "outputId": "3b0e1cdb-dc61-4163-c563-aaf0f201cf25",
    "scrolled": true
   },
   "outputs": [
    {
     "data": {
      "text/html": [
       "<div>\n",
       "<style scoped>\n",
       "    .dataframe tbody tr th:only-of-type {\n",
       "        vertical-align: middle;\n",
       "    }\n",
       "\n",
       "    .dataframe tbody tr th {\n",
       "        vertical-align: top;\n",
       "    }\n",
       "\n",
       "    .dataframe thead th {\n",
       "        text-align: right;\n",
       "    }\n",
       "</style>\n",
       "<table border=\"1\" class=\"dataframe\">\n",
       "  <thead>\n",
       "    <tr style=\"text-align: right;\">\n",
       "      <th></th>\n",
       "      <th>item_id</th>\n",
       "      <th>item_category_id</th>\n",
       "      <th>date_block_num</th>\n",
       "      <th>item_price</th>\n",
       "      <th>shop_id</th>\n",
       "      <th>monthly_label</th>\n",
       "      <th>Last_Month_Sales</th>\n",
       "      <th>Last_Month_Diff</th>\n",
       "      <th>year</th>\n",
       "      <th>month</th>\n",
       "    </tr>\n",
       "  </thead>\n",
       "  <tbody>\n",
       "    <tr>\n",
       "      <th>2</th>\n",
       "      <td>1</td>\n",
       "      <td>76</td>\n",
       "      <td>18</td>\n",
       "      <td>0.121382</td>\n",
       "      <td>55</td>\n",
       "      <td>1.0</td>\n",
       "      <td>0.00008</td>\n",
       "      <td>0.602033</td>\n",
       "      <td>2014</td>\n",
       "      <td>JUL</td>\n",
       "    </tr>\n",
       "    <tr>\n",
       "      <th>3</th>\n",
       "      <td>1</td>\n",
       "      <td>76</td>\n",
       "      <td>19</td>\n",
       "      <td>0.121382</td>\n",
       "      <td>55</td>\n",
       "      <td>1.0</td>\n",
       "      <td>0.00000</td>\n",
       "      <td>0.602118</td>\n",
       "      <td>2014</td>\n",
       "      <td>AGO</td>\n",
       "    </tr>\n",
       "    <tr>\n",
       "      <th>4</th>\n",
       "      <td>1</td>\n",
       "      <td>76</td>\n",
       "      <td>20</td>\n",
       "      <td>0.121382</td>\n",
       "      <td>55</td>\n",
       "      <td>1.0</td>\n",
       "      <td>0.00000</td>\n",
       "      <td>0.602118</td>\n",
       "      <td>2014</td>\n",
       "      <td>SET</td>\n",
       "    </tr>\n",
       "    <tr>\n",
       "      <th>5</th>\n",
       "      <td>1</td>\n",
       "      <td>76</td>\n",
       "      <td>21</td>\n",
       "      <td>0.121382</td>\n",
       "      <td>55</td>\n",
       "      <td>1.0</td>\n",
       "      <td>0.00000</td>\n",
       "      <td>0.602118</td>\n",
       "      <td>2014</td>\n",
       "      <td>OUT</td>\n",
       "    </tr>\n",
       "    <tr>\n",
       "      <th>7</th>\n",
       "      <td>2</td>\n",
       "      <td>40</td>\n",
       "      <td>22</td>\n",
       "      <td>0.001565</td>\n",
       "      <td>54</td>\n",
       "      <td>1.0</td>\n",
       "      <td>0.00000</td>\n",
       "      <td>0.602118</td>\n",
       "      <td>2014</td>\n",
       "      <td>NOV</td>\n",
       "    </tr>\n",
       "  </tbody>\n",
       "</table>\n",
       "</div>"
      ],
      "text/plain": [
       "   item_id  item_category_id  date_block_num  ...  Last_Month_Diff  year  month\n",
       "2        1                76              18  ...         0.602033  2014    JUL\n",
       "3        1                76              19  ...         0.602118  2014    AGO\n",
       "4        1                76              20  ...         0.602118  2014    SET\n",
       "5        1                76              21  ...         0.602118  2014    OUT\n",
       "7        2                40              22  ...         0.602118  2014    NOV\n",
       "\n",
       "[5 rows x 10 columns]"
      ]
     },
     "execution_count": 33,
     "metadata": {
      "tags": []
     },
     "output_type": "execute_result"
    }
   ],
   "source": [
    "data_train.head()"
   ]
  },
  {
   "cell_type": "code",
   "execution_count": 177,
   "metadata": {
    "colab": {
     "base_uri": "https://localhost:8080/",
     "height": 134
    },
    "colab_type": "code",
    "id": "xBma3UIC-Tz5",
    "outputId": "0e9f709f-5efd-496f-a8cb-c86f894abefc"
   },
   "outputs": [
    {
     "data": {
      "text/plain": [
       "Index(['item_id', 'item_category_id', 'date_block_num', 'item_price',\n",
       "       'shop_id', 'monthly_label', 'Last_Month_Sales', 'month_max_sales',\n",
       "       'month_min_sales', 'month_average_sales', 'shop_max_sales',\n",
       "       'shop_min_sales', 'shop_average_sales', 'category_max_sales',\n",
       "       'category_min_sales', 'category_average_sales', 'item_shop_rate',\n",
       "       'item_category_rate', 'year', 'month', 'end_of_year', 'begin_year'],\n",
       "      dtype='object')"
      ]
     },
     "execution_count": 177,
     "metadata": {
      "tags": []
     },
     "output_type": "execute_result"
    }
   ],
   "source": [
    "data_train.columns"
   ]
  },
  {
   "cell_type": "code",
   "execution_count": 0,
   "metadata": {
    "colab": {},
    "colab_type": "code",
    "id": "7dWiPv2XFAUC"
   },
   "outputs": [],
   "source": [
    "from sklearn.compose import ColumnTransformer\n",
    "from sklearn.model_selection import train_test_split\n",
    "from sklearn.pipeline import Pipeline\n",
    "from sklearn.preprocessing import OneHotEncoder"
   ]
  },
  {
   "cell_type": "code",
   "execution_count": 0,
   "metadata": {
    "colab": {},
    "colab_type": "code",
    "id": "COd-VXoEFGHX"
   },
   "outputs": [],
   "source": [
    "y = data_train['monthly_label']\n",
    "X = data_train[['item_category_id', 'date_block_num', 'item_price',\n",
    "       'shop_id', 'Last_Month_Sales', 'month_max_sales',\n",
    "       'month_min_sales', 'month_average_sales', 'shop_max_sales',\n",
    "       'shop_min_sales', 'shop_average_sales', 'category_max_sales',\n",
    "       'category_min_sales', 'category_average_sales', 'item_shop_rate',\n",
    "       'item_category_rate', 'end_of_year', 'begin_year']]"
   ]
  },
  {
   "cell_type": "code",
   "execution_count": 0,
   "metadata": {
    "colab": {},
    "colab_type": "code",
    "id": "I20juQ4MFd_8"
   },
   "outputs": [],
   "source": [
    "from sklearn.compose import make_column_transformer"
   ]
  },
  {
   "cell_type": "code",
   "execution_count": 0,
   "metadata": {
    "colab": {},
    "colab_type": "code",
    "id": "YRIuOkN5FjEC"
   },
   "outputs": [],
   "source": [
    "column_trans = make_column_transformer(\n",
    "    (OneHotEncoder(), ['item_category_id', 'shop_id']), \n",
    "    remainder='passthrough')"
   ]
  },
  {
   "cell_type": "code",
   "execution_count": 0,
   "metadata": {
    "colab": {},
    "colab_type": "code",
    "id": "n1d7_FSMHI6i"
   },
   "outputs": [],
   "source": [
    "X = column_trans.fit_transform(X)"
   ]
  },
  {
   "cell_type": "code",
   "execution_count": 0,
   "metadata": {
    "colab": {},
    "colab_type": "code",
    "id": "zyDoi6MjV8rB"
   },
   "outputs": [],
   "source": [
    " X_train, X_test, y_train, y_test = train_test_split(X, y, test_size=0.3, random_state=42)"
   ]
  },
  {
   "cell_type": "code",
   "execution_count": 0,
   "metadata": {
    "colab": {},
    "colab_type": "code",
    "id": "xHTjq1PbHYUw"
   },
   "outputs": [],
   "source": [
    "from sklearn.linear_model import LinearRegression"
   ]
  },
  {
   "cell_type": "code",
   "execution_count": 215,
   "metadata": {
    "colab": {
     "base_uri": "https://localhost:8080/",
     "height": 34
    },
    "colab_type": "code",
    "id": "ezQX3cucHoOY",
    "outputId": "44a89ed2-1aa9-4068-adb1-a39eb9130719"
   },
   "outputs": [
    {
     "data": {
      "text/plain": [
       "LinearRegression(copy_X=True, fit_intercept=True, n_jobs=None, normalize=False)"
      ]
     },
     "execution_count": 215,
     "metadata": {
      "tags": []
     },
     "output_type": "execute_result"
    }
   ],
   "source": [
    "lr_model = LinearRegression()\n",
    "\n",
    "lr_model.fit(X_train, y_train)"
   ]
  },
  {
   "cell_type": "code",
   "execution_count": 0,
   "metadata": {
    "colab": {},
    "colab_type": "code",
    "id": "u4CVLzlMH11Q"
   },
   "outputs": [],
   "source": [
    "y_pred = lr_model.predict(X_test)"
   ]
  },
  {
   "cell_type": "code",
   "execution_count": 217,
   "metadata": {
    "colab": {
     "base_uri": "https://localhost:8080/",
     "height": 34
    },
    "colab_type": "code",
    "id": "eh4Bx-N9H5JL",
    "outputId": "d5ec816e-96db-42ae-90dd-f60800cf39aa"
   },
   "outputs": [
    {
     "data": {
      "text/plain": [
       "168.41211902934654"
      ]
     },
     "execution_count": 217,
     "metadata": {
      "tags": []
     },
     "output_type": "execute_result"
    }
   ],
   "source": [
    "from sklearn.metrics import mean_squared_error\n",
    "mean_squared_error(y_test, y_pred)"
   ]
  },
  {
   "cell_type": "code",
   "execution_count": 218,
   "metadata": {
    "colab": {
     "base_uri": "https://localhost:8080/",
     "height": 34
    },
    "colab_type": "code",
    "id": "0xBsT07dIIPu",
    "outputId": "626b826b-7678-4617-c7f5-bb81b3d4bbce"
   },
   "outputs": [
    {
     "data": {
      "text/plain": [
       "12.977369495754775"
      ]
     },
     "execution_count": 218,
     "metadata": {
      "tags": []
     },
     "output_type": "execute_result"
    }
   ],
   "source": [
    "import numpy as np\n",
    "\n",
    "np.sqrt(mean_squared_error(y_test, y_pred))"
   ]
  },
  {
   "cell_type": "code",
   "execution_count": 0,
   "metadata": {
    "colab": {},
    "colab_type": "code",
    "id": "Q86yfs4PWaqd"
   },
   "outputs": [],
   "source": []
  },
  {
   "cell_type": "markdown",
   "metadata": {
    "colab_type": "text",
    "id": "KLDllgG6WcMo"
   },
   "source": [
    "# Random Forest Model sklearn"
   ]
  },
  {
   "cell_type": "code",
   "execution_count": 0,
   "metadata": {
    "colab": {},
    "colab_type": "code",
    "id": "zhyDm8GfWfzG"
   },
   "outputs": [],
   "source": [
    "from sklearn.ensemble import RandomForestRegressor"
   ]
  },
  {
   "cell_type": "code",
   "execution_count": 0,
   "metadata": {
    "colab": {},
    "colab_type": "code",
    "id": "cuLbVoGOWotZ"
   },
   "outputs": [],
   "source": [
    "rf_model = RandomForestRegressor()"
   ]
  },
  {
   "cell_type": "code",
   "execution_count": 223,
   "metadata": {
    "colab": {
     "base_uri": "https://localhost:8080/",
     "height": 303
    },
    "colab_type": "code",
    "id": "ubDCZR-aWuyL",
    "outputId": "37d6688b-a7e1-4ed5-c00f-84f6216312fc"
   },
   "outputs": [
    {
     "ename": "KeyboardInterrupt",
     "evalue": "ignored",
     "output_type": "error",
     "traceback": [
      "\u001b[0;31m---------------------------------------------------------------------------\u001b[0m",
      "\u001b[0;31mKeyboardInterrupt\u001b[0m                         Traceback (most recent call last)",
      "\u001b[0;32m<ipython-input-223-ce45b449cc1f>\u001b[0m in \u001b[0;36m<module>\u001b[0;34m()\u001b[0m\n\u001b[0;32m----> 1\u001b[0;31m \u001b[0mrf_model\u001b[0m\u001b[0;34m.\u001b[0m\u001b[0mfit\u001b[0m\u001b[0;34m(\u001b[0m\u001b[0mX_train\u001b[0m\u001b[0;34m,\u001b[0m \u001b[0my_train\u001b[0m\u001b[0;34m)\u001b[0m\u001b[0;34m\u001b[0m\u001b[0;34m\u001b[0m\u001b[0m\n\u001b[0m",
      "\u001b[0;32m/usr/local/lib/python3.6/dist-packages/sklearn/ensemble/_forest.py\u001b[0m in \u001b[0;36mfit\u001b[0;34m(self, X, y, sample_weight)\u001b[0m\n\u001b[1;32m    381\u001b[0m                     \u001b[0mverbose\u001b[0m\u001b[0;34m=\u001b[0m\u001b[0mself\u001b[0m\u001b[0;34m.\u001b[0m\u001b[0mverbose\u001b[0m\u001b[0;34m,\u001b[0m \u001b[0mclass_weight\u001b[0m\u001b[0;34m=\u001b[0m\u001b[0mself\u001b[0m\u001b[0;34m.\u001b[0m\u001b[0mclass_weight\u001b[0m\u001b[0;34m,\u001b[0m\u001b[0;34m\u001b[0m\u001b[0;34m\u001b[0m\u001b[0m\n\u001b[1;32m    382\u001b[0m                     n_samples_bootstrap=n_samples_bootstrap)\n\u001b[0;32m--> 383\u001b[0;31m                 for i, t in enumerate(trees))\n\u001b[0m\u001b[1;32m    384\u001b[0m \u001b[0;34m\u001b[0m\u001b[0m\n\u001b[1;32m    385\u001b[0m             \u001b[0;31m# Collect newly grown trees\u001b[0m\u001b[0;34m\u001b[0m\u001b[0;34m\u001b[0m\u001b[0;34m\u001b[0m\u001b[0m\n",
      "\u001b[0;32m/usr/local/lib/python3.6/dist-packages/joblib/parallel.py\u001b[0m in \u001b[0;36m__call__\u001b[0;34m(self, iterable)\u001b[0m\n\u001b[1;32m   1030\u001b[0m                 \u001b[0mself\u001b[0m\u001b[0;34m.\u001b[0m\u001b[0m_iterating\u001b[0m \u001b[0;34m=\u001b[0m \u001b[0mself\u001b[0m\u001b[0;34m.\u001b[0m\u001b[0m_original_iterator\u001b[0m \u001b[0;32mis\u001b[0m \u001b[0;32mnot\u001b[0m \u001b[0;32mNone\u001b[0m\u001b[0;34m\u001b[0m\u001b[0;34m\u001b[0m\u001b[0m\n\u001b[1;32m   1031\u001b[0m \u001b[0;34m\u001b[0m\u001b[0m\n\u001b[0;32m-> 1032\u001b[0;31m             \u001b[0;32mwhile\u001b[0m \u001b[0mself\u001b[0m\u001b[0;34m.\u001b[0m\u001b[0mdispatch_one_batch\u001b[0m\u001b[0;34m(\u001b[0m\u001b[0miterator\u001b[0m\u001b[0;34m)\u001b[0m\u001b[0;34m:\u001b[0m\u001b[0;34m\u001b[0m\u001b[0;34m\u001b[0m\u001b[0m\n\u001b[0m\u001b[1;32m   1033\u001b[0m                 \u001b[0;32mpass\u001b[0m\u001b[0;34m\u001b[0m\u001b[0;34m\u001b[0m\u001b[0m\n\u001b[1;32m   1034\u001b[0m \u001b[0;34m\u001b[0m\u001b[0m\n",
      "\u001b[0;32m/usr/local/lib/python3.6/dist-packages/joblib/parallel.py\u001b[0m in \u001b[0;36mdispatch_one_batch\u001b[0;34m(self, iterator)\u001b[0m\n\u001b[1;32m    845\u001b[0m                 \u001b[0;32mreturn\u001b[0m \u001b[0;32mFalse\u001b[0m\u001b[0;34m\u001b[0m\u001b[0;34m\u001b[0m\u001b[0m\n\u001b[1;32m    846\u001b[0m             \u001b[0;32melse\u001b[0m\u001b[0;34m:\u001b[0m\u001b[0;34m\u001b[0m\u001b[0;34m\u001b[0m\u001b[0m\n\u001b[0;32m--> 847\u001b[0;31m                 \u001b[0mself\u001b[0m\u001b[0;34m.\u001b[0m\u001b[0m_dispatch\u001b[0m\u001b[0;34m(\u001b[0m\u001b[0mtasks\u001b[0m\u001b[0;34m)\u001b[0m\u001b[0;34m\u001b[0m\u001b[0;34m\u001b[0m\u001b[0m\n\u001b[0m\u001b[1;32m    848\u001b[0m                 \u001b[0;32mreturn\u001b[0m \u001b[0;32mTrue\u001b[0m\u001b[0;34m\u001b[0m\u001b[0;34m\u001b[0m\u001b[0m\n\u001b[1;32m    849\u001b[0m \u001b[0;34m\u001b[0m\u001b[0m\n",
      "\u001b[0;32m/usr/local/lib/python3.6/dist-packages/joblib/parallel.py\u001b[0m in \u001b[0;36m_dispatch\u001b[0;34m(self, batch)\u001b[0m\n\u001b[1;32m    763\u001b[0m         \u001b[0;32mwith\u001b[0m \u001b[0mself\u001b[0m\u001b[0;34m.\u001b[0m\u001b[0m_lock\u001b[0m\u001b[0;34m:\u001b[0m\u001b[0;34m\u001b[0m\u001b[0;34m\u001b[0m\u001b[0m\n\u001b[1;32m    764\u001b[0m             \u001b[0mjob_idx\u001b[0m \u001b[0;34m=\u001b[0m \u001b[0mlen\u001b[0m\u001b[0;34m(\u001b[0m\u001b[0mself\u001b[0m\u001b[0;34m.\u001b[0m\u001b[0m_jobs\u001b[0m\u001b[0;34m)\u001b[0m\u001b[0;34m\u001b[0m\u001b[0;34m\u001b[0m\u001b[0m\n\u001b[0;32m--> 765\u001b[0;31m             \u001b[0mjob\u001b[0m \u001b[0;34m=\u001b[0m \u001b[0mself\u001b[0m\u001b[0;34m.\u001b[0m\u001b[0m_backend\u001b[0m\u001b[0;34m.\u001b[0m\u001b[0mapply_async\u001b[0m\u001b[0;34m(\u001b[0m\u001b[0mbatch\u001b[0m\u001b[0;34m,\u001b[0m \u001b[0mcallback\u001b[0m\u001b[0;34m=\u001b[0m\u001b[0mcb\u001b[0m\u001b[0;34m)\u001b[0m\u001b[0;34m\u001b[0m\u001b[0;34m\u001b[0m\u001b[0m\n\u001b[0m\u001b[1;32m    766\u001b[0m             \u001b[0;31m# A job can complete so quickly than its callback is\u001b[0m\u001b[0;34m\u001b[0m\u001b[0;34m\u001b[0m\u001b[0;34m\u001b[0m\u001b[0m\n\u001b[1;32m    767\u001b[0m             \u001b[0;31m# called before we get here, causing self._jobs to\u001b[0m\u001b[0;34m\u001b[0m\u001b[0;34m\u001b[0m\u001b[0;34m\u001b[0m\u001b[0m\n",
      "\u001b[0;32m/usr/local/lib/python3.6/dist-packages/joblib/_parallel_backends.py\u001b[0m in \u001b[0;36mapply_async\u001b[0;34m(self, func, callback)\u001b[0m\n\u001b[1;32m    204\u001b[0m     \u001b[0;32mdef\u001b[0m \u001b[0mapply_async\u001b[0m\u001b[0;34m(\u001b[0m\u001b[0mself\u001b[0m\u001b[0;34m,\u001b[0m \u001b[0mfunc\u001b[0m\u001b[0;34m,\u001b[0m \u001b[0mcallback\u001b[0m\u001b[0;34m=\u001b[0m\u001b[0;32mNone\u001b[0m\u001b[0;34m)\u001b[0m\u001b[0;34m:\u001b[0m\u001b[0;34m\u001b[0m\u001b[0;34m\u001b[0m\u001b[0m\n\u001b[1;32m    205\u001b[0m         \u001b[0;34m\"\"\"Schedule a func to be run\"\"\"\u001b[0m\u001b[0;34m\u001b[0m\u001b[0;34m\u001b[0m\u001b[0m\n\u001b[0;32m--> 206\u001b[0;31m         \u001b[0mresult\u001b[0m \u001b[0;34m=\u001b[0m \u001b[0mImmediateResult\u001b[0m\u001b[0;34m(\u001b[0m\u001b[0mfunc\u001b[0m\u001b[0;34m)\u001b[0m\u001b[0;34m\u001b[0m\u001b[0;34m\u001b[0m\u001b[0m\n\u001b[0m\u001b[1;32m    207\u001b[0m         \u001b[0;32mif\u001b[0m \u001b[0mcallback\u001b[0m\u001b[0;34m:\u001b[0m\u001b[0;34m\u001b[0m\u001b[0;34m\u001b[0m\u001b[0m\n\u001b[1;32m    208\u001b[0m             \u001b[0mcallback\u001b[0m\u001b[0;34m(\u001b[0m\u001b[0mresult\u001b[0m\u001b[0;34m)\u001b[0m\u001b[0;34m\u001b[0m\u001b[0;34m\u001b[0m\u001b[0m\n",
      "\u001b[0;32m/usr/local/lib/python3.6/dist-packages/joblib/_parallel_backends.py\u001b[0m in \u001b[0;36m__init__\u001b[0;34m(self, batch)\u001b[0m\n\u001b[1;32m    568\u001b[0m         \u001b[0;31m# Don't delay the application, to avoid keeping the input\u001b[0m\u001b[0;34m\u001b[0m\u001b[0;34m\u001b[0m\u001b[0;34m\u001b[0m\u001b[0m\n\u001b[1;32m    569\u001b[0m         \u001b[0;31m# arguments in memory\u001b[0m\u001b[0;34m\u001b[0m\u001b[0;34m\u001b[0m\u001b[0;34m\u001b[0m\u001b[0m\n\u001b[0;32m--> 570\u001b[0;31m         \u001b[0mself\u001b[0m\u001b[0;34m.\u001b[0m\u001b[0mresults\u001b[0m \u001b[0;34m=\u001b[0m \u001b[0mbatch\u001b[0m\u001b[0;34m(\u001b[0m\u001b[0;34m)\u001b[0m\u001b[0;34m\u001b[0m\u001b[0;34m\u001b[0m\u001b[0m\n\u001b[0m\u001b[1;32m    571\u001b[0m \u001b[0;34m\u001b[0m\u001b[0m\n\u001b[1;32m    572\u001b[0m     \u001b[0;32mdef\u001b[0m \u001b[0mget\u001b[0m\u001b[0;34m(\u001b[0m\u001b[0mself\u001b[0m\u001b[0;34m)\u001b[0m\u001b[0;34m:\u001b[0m\u001b[0;34m\u001b[0m\u001b[0;34m\u001b[0m\u001b[0m\n",
      "\u001b[0;32m/usr/local/lib/python3.6/dist-packages/joblib/parallel.py\u001b[0m in \u001b[0;36m__call__\u001b[0;34m(self)\u001b[0m\n\u001b[1;32m    251\u001b[0m         \u001b[0;32mwith\u001b[0m \u001b[0mparallel_backend\u001b[0m\u001b[0;34m(\u001b[0m\u001b[0mself\u001b[0m\u001b[0;34m.\u001b[0m\u001b[0m_backend\u001b[0m\u001b[0;34m,\u001b[0m \u001b[0mn_jobs\u001b[0m\u001b[0;34m=\u001b[0m\u001b[0mself\u001b[0m\u001b[0;34m.\u001b[0m\u001b[0m_n_jobs\u001b[0m\u001b[0;34m)\u001b[0m\u001b[0;34m:\u001b[0m\u001b[0;34m\u001b[0m\u001b[0;34m\u001b[0m\u001b[0m\n\u001b[1;32m    252\u001b[0m             return [func(*args, **kwargs)\n\u001b[0;32m--> 253\u001b[0;31m                     for func, args, kwargs in self.items]\n\u001b[0m\u001b[1;32m    254\u001b[0m \u001b[0;34m\u001b[0m\u001b[0m\n\u001b[1;32m    255\u001b[0m     \u001b[0;32mdef\u001b[0m \u001b[0m__reduce__\u001b[0m\u001b[0;34m(\u001b[0m\u001b[0mself\u001b[0m\u001b[0;34m)\u001b[0m\u001b[0;34m:\u001b[0m\u001b[0;34m\u001b[0m\u001b[0;34m\u001b[0m\u001b[0m\n",
      "\u001b[0;32m/usr/local/lib/python3.6/dist-packages/joblib/parallel.py\u001b[0m in \u001b[0;36m<listcomp>\u001b[0;34m(.0)\u001b[0m\n\u001b[1;32m    251\u001b[0m         \u001b[0;32mwith\u001b[0m \u001b[0mparallel_backend\u001b[0m\u001b[0;34m(\u001b[0m\u001b[0mself\u001b[0m\u001b[0;34m.\u001b[0m\u001b[0m_backend\u001b[0m\u001b[0;34m,\u001b[0m \u001b[0mn_jobs\u001b[0m\u001b[0;34m=\u001b[0m\u001b[0mself\u001b[0m\u001b[0;34m.\u001b[0m\u001b[0m_n_jobs\u001b[0m\u001b[0;34m)\u001b[0m\u001b[0;34m:\u001b[0m\u001b[0;34m\u001b[0m\u001b[0;34m\u001b[0m\u001b[0m\n\u001b[1;32m    252\u001b[0m             return [func(*args, **kwargs)\n\u001b[0;32m--> 253\u001b[0;31m                     for func, args, kwargs in self.items]\n\u001b[0m\u001b[1;32m    254\u001b[0m \u001b[0;34m\u001b[0m\u001b[0m\n\u001b[1;32m    255\u001b[0m     \u001b[0;32mdef\u001b[0m \u001b[0m__reduce__\u001b[0m\u001b[0;34m(\u001b[0m\u001b[0mself\u001b[0m\u001b[0;34m)\u001b[0m\u001b[0;34m:\u001b[0m\u001b[0;34m\u001b[0m\u001b[0;34m\u001b[0m\u001b[0m\n",
      "\u001b[0;32m/usr/local/lib/python3.6/dist-packages/sklearn/ensemble/_forest.py\u001b[0m in \u001b[0;36m_parallel_build_trees\u001b[0;34m(tree, forest, X, y, sample_weight, tree_idx, n_trees, verbose, class_weight, n_samples_bootstrap)\u001b[0m\n\u001b[1;32m    163\u001b[0m             \u001b[0mcurr_sample_weight\u001b[0m \u001b[0;34m*=\u001b[0m \u001b[0mcompute_sample_weight\u001b[0m\u001b[0;34m(\u001b[0m\u001b[0;34m'balanced'\u001b[0m\u001b[0;34m,\u001b[0m \u001b[0my\u001b[0m\u001b[0;34m,\u001b[0m \u001b[0mindices\u001b[0m\u001b[0;34m)\u001b[0m\u001b[0;34m\u001b[0m\u001b[0;34m\u001b[0m\u001b[0m\n\u001b[1;32m    164\u001b[0m \u001b[0;34m\u001b[0m\u001b[0m\n\u001b[0;32m--> 165\u001b[0;31m         \u001b[0mtree\u001b[0m\u001b[0;34m.\u001b[0m\u001b[0mfit\u001b[0m\u001b[0;34m(\u001b[0m\u001b[0mX\u001b[0m\u001b[0;34m,\u001b[0m \u001b[0my\u001b[0m\u001b[0;34m,\u001b[0m \u001b[0msample_weight\u001b[0m\u001b[0;34m=\u001b[0m\u001b[0mcurr_sample_weight\u001b[0m\u001b[0;34m,\u001b[0m \u001b[0mcheck_input\u001b[0m\u001b[0;34m=\u001b[0m\u001b[0;32mFalse\u001b[0m\u001b[0;34m)\u001b[0m\u001b[0;34m\u001b[0m\u001b[0;34m\u001b[0m\u001b[0m\n\u001b[0m\u001b[1;32m    166\u001b[0m     \u001b[0;32melse\u001b[0m\u001b[0;34m:\u001b[0m\u001b[0;34m\u001b[0m\u001b[0;34m\u001b[0m\u001b[0m\n\u001b[1;32m    167\u001b[0m         \u001b[0mtree\u001b[0m\u001b[0;34m.\u001b[0m\u001b[0mfit\u001b[0m\u001b[0;34m(\u001b[0m\u001b[0mX\u001b[0m\u001b[0;34m,\u001b[0m \u001b[0my\u001b[0m\u001b[0;34m,\u001b[0m \u001b[0msample_weight\u001b[0m\u001b[0;34m=\u001b[0m\u001b[0msample_weight\u001b[0m\u001b[0;34m,\u001b[0m \u001b[0mcheck_input\u001b[0m\u001b[0;34m=\u001b[0m\u001b[0;32mFalse\u001b[0m\u001b[0;34m)\u001b[0m\u001b[0;34m\u001b[0m\u001b[0;34m\u001b[0m\u001b[0m\n",
      "\u001b[0;32m/usr/local/lib/python3.6/dist-packages/sklearn/tree/_classes.py\u001b[0m in \u001b[0;36mfit\u001b[0;34m(self, X, y, sample_weight, check_input, X_idx_sorted)\u001b[0m\n\u001b[1;32m   1223\u001b[0m             \u001b[0msample_weight\u001b[0m\u001b[0;34m=\u001b[0m\u001b[0msample_weight\u001b[0m\u001b[0;34m,\u001b[0m\u001b[0;34m\u001b[0m\u001b[0;34m\u001b[0m\u001b[0m\n\u001b[1;32m   1224\u001b[0m             \u001b[0mcheck_input\u001b[0m\u001b[0;34m=\u001b[0m\u001b[0mcheck_input\u001b[0m\u001b[0;34m,\u001b[0m\u001b[0;34m\u001b[0m\u001b[0;34m\u001b[0m\u001b[0m\n\u001b[0;32m-> 1225\u001b[0;31m             X_idx_sorted=X_idx_sorted)\n\u001b[0m\u001b[1;32m   1226\u001b[0m         \u001b[0;32mreturn\u001b[0m \u001b[0mself\u001b[0m\u001b[0;34m\u001b[0m\u001b[0;34m\u001b[0m\u001b[0m\n\u001b[1;32m   1227\u001b[0m \u001b[0;34m\u001b[0m\u001b[0m\n",
      "\u001b[0;32m/usr/local/lib/python3.6/dist-packages/sklearn/tree/_classes.py\u001b[0m in \u001b[0;36mfit\u001b[0;34m(self, X, y, sample_weight, check_input, X_idx_sorted)\u001b[0m\n\u001b[1;32m    365\u001b[0m                                            min_impurity_split)\n\u001b[1;32m    366\u001b[0m \u001b[0;34m\u001b[0m\u001b[0m\n\u001b[0;32m--> 367\u001b[0;31m         \u001b[0mbuilder\u001b[0m\u001b[0;34m.\u001b[0m\u001b[0mbuild\u001b[0m\u001b[0;34m(\u001b[0m\u001b[0mself\u001b[0m\u001b[0;34m.\u001b[0m\u001b[0mtree_\u001b[0m\u001b[0;34m,\u001b[0m \u001b[0mX\u001b[0m\u001b[0;34m,\u001b[0m \u001b[0my\u001b[0m\u001b[0;34m,\u001b[0m \u001b[0msample_weight\u001b[0m\u001b[0;34m,\u001b[0m \u001b[0mX_idx_sorted\u001b[0m\u001b[0;34m)\u001b[0m\u001b[0;34m\u001b[0m\u001b[0;34m\u001b[0m\u001b[0m\n\u001b[0m\u001b[1;32m    368\u001b[0m \u001b[0;34m\u001b[0m\u001b[0m\n\u001b[1;32m    369\u001b[0m         \u001b[0;32mif\u001b[0m \u001b[0mself\u001b[0m\u001b[0;34m.\u001b[0m\u001b[0mn_outputs_\u001b[0m \u001b[0;34m==\u001b[0m \u001b[0;36m1\u001b[0m \u001b[0;32mand\u001b[0m \u001b[0mis_classifier\u001b[0m\u001b[0;34m(\u001b[0m\u001b[0mself\u001b[0m\u001b[0;34m)\u001b[0m\u001b[0;34m:\u001b[0m\u001b[0;34m\u001b[0m\u001b[0;34m\u001b[0m\u001b[0m\n",
      "\u001b[0;31mKeyboardInterrupt\u001b[0m: "
     ]
    }
   ],
   "source": [
    "rf_model.fit(X_train, y_train)"
   ]
  },
  {
   "cell_type": "markdown",
   "metadata": {
    "colab_type": "text",
    "id": "skqk7Nrja080"
   },
   "source": [
    "# XGBoost Regressor model"
   ]
  },
  {
   "cell_type": "code",
   "execution_count": 0,
   "metadata": {
    "colab": {},
    "colab_type": "code",
    "id": "TJHNjRdVW5Ii"
   },
   "outputs": [],
   "source": [
    "from xgboost import XGBRegressor\n",
    "import xgboost as xgb"
   ]
  },
  {
   "cell_type": "code",
   "execution_count": 0,
   "metadata": {
    "colab": {},
    "colab_type": "code",
    "id": "aFwIOZ6XbAP9"
   },
   "outputs": [],
   "source": [
    "simple_xgb_model = XGBRegressor()"
   ]
  },
  {
   "cell_type": "code",
   "execution_count": 226,
   "metadata": {
    "colab": {
     "base_uri": "https://localhost:8080/",
     "height": 151
    },
    "colab_type": "code",
    "id": "y5eFBsYgbFsM",
    "outputId": "d6ff0a1c-b1d3-47fb-868a-0f080f608048"
   },
   "outputs": [
    {
     "name": "stdout",
     "output_type": "stream",
     "text": [
      "[05:06:32] WARNING: /workspace/src/objective/regression_obj.cu:152: reg:linear is now deprecated in favor of reg:squarederror.\n"
     ]
    },
    {
     "data": {
      "text/plain": [
       "XGBRegressor(base_score=0.5, booster='gbtree', colsample_bylevel=1,\n",
       "             colsample_bynode=1, colsample_bytree=1, gamma=0,\n",
       "             importance_type='gain', learning_rate=0.1, max_delta_step=0,\n",
       "             max_depth=3, min_child_weight=1, missing=None, n_estimators=100,\n",
       "             n_jobs=1, nthread=None, objective='reg:linear', random_state=0,\n",
       "             reg_alpha=0, reg_lambda=1, scale_pos_weight=1, seed=None,\n",
       "             silent=None, subsample=1, verbosity=1)"
      ]
     },
     "execution_count": 226,
     "metadata": {
      "tags": []
     },
     "output_type": "execute_result"
    }
   ],
   "source": [
    "simple_xgb_model.fit(X_train, y_train)"
   ]
  },
  {
   "cell_type": "code",
   "execution_count": 0,
   "metadata": {
    "colab": {},
    "colab_type": "code",
    "id": "QcqCYOUKbIUz"
   },
   "outputs": [],
   "source": [
    "y_pred = simple_xgb_model.predict(X_test)"
   ]
  },
  {
   "cell_type": "code",
   "execution_count": 228,
   "metadata": {
    "colab": {
     "base_uri": "https://localhost:8080/",
     "height": 34
    },
    "colab_type": "code",
    "id": "BYVc1nPfbQv_",
    "outputId": "d78a0767-31dc-47ed-c793-dd5418912073"
   },
   "outputs": [
    {
     "data": {
      "text/plain": [
       "88.06528938744937"
      ]
     },
     "execution_count": 228,
     "metadata": {
      "tags": []
     },
     "output_type": "execute_result"
    }
   ],
   "source": [
    "mean_squared_error(y_test, y_pred)"
   ]
  },
  {
   "cell_type": "code",
   "execution_count": 229,
   "metadata": {
    "colab": {
     "base_uri": "https://localhost:8080/",
     "height": 34
    },
    "colab_type": "code",
    "id": "nEg0WryabUbM",
    "outputId": "0f365e11-896c-44b7-e28a-92f22e46a3d1"
   },
   "outputs": [
    {
     "data": {
      "text/plain": [
       "9.384310810467083"
      ]
     },
     "execution_count": 229,
     "metadata": {
      "tags": []
     },
     "output_type": "execute_result"
    }
   ],
   "source": [
    "import numpy as np\n",
    "\n",
    "np.sqrt(mean_squared_error(y_test, y_pred))"
   ]
  },
  {
   "cell_type": "code",
   "execution_count": 0,
   "metadata": {
    "colab": {},
    "colab_type": "code",
    "id": "9sjZlWOKbYL8"
   },
   "outputs": [],
   "source": []
  }
 ],
 "metadata": {
  "colab": {
   "name": "model_improvement.ipynb",
   "provenance": [],
   "toc_visible": true
  },
  "kernelspec": {
   "display_name": "Python 3",
   "language": "python",
   "name": "python3"
  },
  "language_info": {
   "codemirror_mode": {
    "name": "ipython",
    "version": 3
   },
   "file_extension": ".py",
   "mimetype": "text/x-python",
   "name": "python",
   "nbconvert_exporter": "python",
   "pygments_lexer": "ipython3",
   "version": "3.7.7"
  }
 },
 "nbformat": 4,
 "nbformat_minor": 1
}
